{
  "cells": [
    {
      "cell_type": "markdown",
      "metadata": {
        "id": "view-in-github",
        "colab_type": "text"
      },
      "source": [
        "<a href=\"https://colab.research.google.com/github/mikeninerbravog/Deteccao_com_YOLOv8/blob/master/POC_Yolov8.ipynb\" target=\"_parent\"><img src=\"https://colab.research.google.com/assets/colab-badge.svg\" alt=\"Open In Colab\"/></a>"
      ]
    },
    {
      "cell_type": "code",
      "source": [
        "# Importa a biblioteca 'locale' para gerenciar configurações regionais (localização, idioma, codificação, etc.)\n",
        "# Isso foi necessário para suprimir um erro de 'locale' do colab\n",
        "import locale\n",
        "\n",
        "# Ajusta a codificação padrão para UTF-8, garantindo que não ocorram erros de caracteres especiais ao exibir textos.\n",
        "locale.getpreferredencoding = lambda: \"UTF-8\""
      ],
      "metadata": {
        "id": "BdS8cf5Qb4Xn"
      },
      "execution_count": 87,
      "outputs": []
    },
    {
      "cell_type": "code",
      "source": [
        "# Instala ou atualiza a biblioteca 'ultralytics', que contém a implementação do modelo YOLO (You Only Look Once).\n",
        "# O argumento '--upgrade' garante que a versão mais recente seja instalada.\n",
        "\n",
        "!pip install ultralytics --upgrade\n",
        "\n",
        "# Importa a classe 'YOLO' da biblioteca 'ultralytics' para realizar tarefas de detecção de objetos.\n",
        "from ultralytics import YOLO"
      ],
      "metadata": {
        "colab": {
          "base_uri": "https://localhost:8080/"
        },
        "collapsed": true,
        "id": "fUKWL33xcMfs",
        "outputId": "167f2df6-ace6-46b2-d55d-fbfeab71a06e"
      },
      "execution_count": 88,
      "outputs": [
        {
          "output_type": "stream",
          "name": "stdout",
          "text": [
            "Requirement already satisfied: ultralytics in /usr/local/lib/python3.11/dist-packages (8.3.76)\n",
            "Requirement already satisfied: numpy<=2.1.1,>=1.23.0 in /usr/local/lib/python3.11/dist-packages (from ultralytics) (1.26.4)\n",
            "Requirement already satisfied: matplotlib>=3.3.0 in /usr/local/lib/python3.11/dist-packages (from ultralytics) (3.10.0)\n",
            "Requirement already satisfied: opencv-python>=4.6.0 in /usr/local/lib/python3.11/dist-packages (from ultralytics) (4.10.0.84)\n",
            "Requirement already satisfied: pillow>=7.1.2 in /usr/local/lib/python3.11/dist-packages (from ultralytics) (11.1.0)\n",
            "Requirement already satisfied: pyyaml>=5.3.1 in /usr/local/lib/python3.11/dist-packages (from ultralytics) (6.0.2)\n",
            "Requirement already satisfied: requests>=2.23.0 in /usr/local/lib/python3.11/dist-packages (from ultralytics) (2.32.3)\n",
            "Requirement already satisfied: scipy>=1.4.1 in /usr/local/lib/python3.11/dist-packages (from ultralytics) (1.13.1)\n",
            "Requirement already satisfied: torch>=1.8.0 in /usr/local/lib/python3.11/dist-packages (from ultralytics) (2.5.1+cu121)\n",
            "Requirement already satisfied: torchvision>=0.9.0 in /usr/local/lib/python3.11/dist-packages (from ultralytics) (0.20.1+cu121)\n",
            "Requirement already satisfied: tqdm>=4.64.0 in /usr/local/lib/python3.11/dist-packages (from ultralytics) (4.67.1)\n",
            "Requirement already satisfied: psutil in /usr/local/lib/python3.11/dist-packages (from ultralytics) (5.9.5)\n",
            "Requirement already satisfied: py-cpuinfo in /usr/local/lib/python3.11/dist-packages (from ultralytics) (9.0.0)\n",
            "Requirement already satisfied: pandas>=1.1.4 in /usr/local/lib/python3.11/dist-packages (from ultralytics) (2.2.2)\n",
            "Requirement already satisfied: seaborn>=0.11.0 in /usr/local/lib/python3.11/dist-packages (from ultralytics) (0.13.2)\n",
            "Requirement already satisfied: ultralytics-thop>=2.0.0 in /usr/local/lib/python3.11/dist-packages (from ultralytics) (2.0.14)\n",
            "Requirement already satisfied: contourpy>=1.0.1 in /usr/local/lib/python3.11/dist-packages (from matplotlib>=3.3.0->ultralytics) (1.3.1)\n",
            "Requirement already satisfied: cycler>=0.10 in /usr/local/lib/python3.11/dist-packages (from matplotlib>=3.3.0->ultralytics) (0.12.1)\n",
            "Requirement already satisfied: fonttools>=4.22.0 in /usr/local/lib/python3.11/dist-packages (from matplotlib>=3.3.0->ultralytics) (4.55.6)\n",
            "Requirement already satisfied: kiwisolver>=1.3.1 in /usr/local/lib/python3.11/dist-packages (from matplotlib>=3.3.0->ultralytics) (1.4.8)\n",
            "Requirement already satisfied: packaging>=20.0 in /usr/local/lib/python3.11/dist-packages (from matplotlib>=3.3.0->ultralytics) (24.2)\n",
            "Requirement already satisfied: pyparsing>=2.3.1 in /usr/local/lib/python3.11/dist-packages (from matplotlib>=3.3.0->ultralytics) (3.2.1)\n",
            "Requirement already satisfied: python-dateutil>=2.7 in /usr/local/lib/python3.11/dist-packages (from matplotlib>=3.3.0->ultralytics) (2.8.2)\n",
            "Requirement already satisfied: pytz>=2020.1 in /usr/local/lib/python3.11/dist-packages (from pandas>=1.1.4->ultralytics) (2024.2)\n",
            "Requirement already satisfied: tzdata>=2022.7 in /usr/local/lib/python3.11/dist-packages (from pandas>=1.1.4->ultralytics) (2025.1)\n",
            "Requirement already satisfied: charset-normalizer<4,>=2 in /usr/local/lib/python3.11/dist-packages (from requests>=2.23.0->ultralytics) (3.4.1)\n",
            "Requirement already satisfied: idna<4,>=2.5 in /usr/local/lib/python3.11/dist-packages (from requests>=2.23.0->ultralytics) (3.10)\n",
            "Requirement already satisfied: urllib3<3,>=1.21.1 in /usr/local/lib/python3.11/dist-packages (from requests>=2.23.0->ultralytics) (2.3.0)\n",
            "Requirement already satisfied: certifi>=2017.4.17 in /usr/local/lib/python3.11/dist-packages (from requests>=2.23.0->ultralytics) (2024.12.14)\n",
            "Requirement already satisfied: filelock in /usr/local/lib/python3.11/dist-packages (from torch>=1.8.0->ultralytics) (3.17.0)\n",
            "Requirement already satisfied: typing-extensions>=4.8.0 in /usr/local/lib/python3.11/dist-packages (from torch>=1.8.0->ultralytics) (4.12.2)\n",
            "Requirement already satisfied: networkx in /usr/local/lib/python3.11/dist-packages (from torch>=1.8.0->ultralytics) (3.4.2)\n",
            "Requirement already satisfied: jinja2 in /usr/local/lib/python3.11/dist-packages (from torch>=1.8.0->ultralytics) (3.1.5)\n",
            "Requirement already satisfied: fsspec in /usr/local/lib/python3.11/dist-packages (from torch>=1.8.0->ultralytics) (2024.10.0)\n",
            "Requirement already satisfied: nvidia-cuda-nvrtc-cu12==12.1.105 in /usr/local/lib/python3.11/dist-packages (from torch>=1.8.0->ultralytics) (12.1.105)\n",
            "Requirement already satisfied: nvidia-cuda-runtime-cu12==12.1.105 in /usr/local/lib/python3.11/dist-packages (from torch>=1.8.0->ultralytics) (12.1.105)\n",
            "Requirement already satisfied: nvidia-cuda-cupti-cu12==12.1.105 in /usr/local/lib/python3.11/dist-packages (from torch>=1.8.0->ultralytics) (12.1.105)\n",
            "Requirement already satisfied: nvidia-cudnn-cu12==9.1.0.70 in /usr/local/lib/python3.11/dist-packages (from torch>=1.8.0->ultralytics) (9.1.0.70)\n",
            "Requirement already satisfied: nvidia-cublas-cu12==12.1.3.1 in /usr/local/lib/python3.11/dist-packages (from torch>=1.8.0->ultralytics) (12.1.3.1)\n",
            "Requirement already satisfied: nvidia-cufft-cu12==11.0.2.54 in /usr/local/lib/python3.11/dist-packages (from torch>=1.8.0->ultralytics) (11.0.2.54)\n",
            "Requirement already satisfied: nvidia-curand-cu12==10.3.2.106 in /usr/local/lib/python3.11/dist-packages (from torch>=1.8.0->ultralytics) (10.3.2.106)\n",
            "Requirement already satisfied: nvidia-cusolver-cu12==11.4.5.107 in /usr/local/lib/python3.11/dist-packages (from torch>=1.8.0->ultralytics) (11.4.5.107)\n",
            "Requirement already satisfied: nvidia-cusparse-cu12==12.1.0.106 in /usr/local/lib/python3.11/dist-packages (from torch>=1.8.0->ultralytics) (12.1.0.106)\n",
            "Requirement already satisfied: nvidia-nccl-cu12==2.21.5 in /usr/local/lib/python3.11/dist-packages (from torch>=1.8.0->ultralytics) (2.21.5)\n",
            "Requirement already satisfied: nvidia-nvtx-cu12==12.1.105 in /usr/local/lib/python3.11/dist-packages (from torch>=1.8.0->ultralytics) (12.1.105)\n",
            "Requirement already satisfied: triton==3.1.0 in /usr/local/lib/python3.11/dist-packages (from torch>=1.8.0->ultralytics) (3.1.0)\n",
            "Requirement already satisfied: sympy==1.13.1 in /usr/local/lib/python3.11/dist-packages (from torch>=1.8.0->ultralytics) (1.13.1)\n",
            "Requirement already satisfied: nvidia-nvjitlink-cu12 in /usr/local/lib/python3.11/dist-packages (from nvidia-cusolver-cu12==11.4.5.107->torch>=1.8.0->ultralytics) (12.8.61)\n",
            "Requirement already satisfied: mpmath<1.4,>=1.1.0 in /usr/local/lib/python3.11/dist-packages (from sympy==1.13.1->torch>=1.8.0->ultralytics) (1.3.0)\n",
            "Requirement already satisfied: six>=1.5 in /usr/local/lib/python3.11/dist-packages (from python-dateutil>=2.7->matplotlib>=3.3.0->ultralytics) (1.17.0)\n",
            "Requirement already satisfied: MarkupSafe>=2.0 in /usr/local/lib/python3.11/dist-packages (from jinja2->torch>=1.8.0->ultralytics) (3.0.2)\n"
          ]
        }
      ]
    },
    {
      "cell_type": "code",
      "source": [
        "# Conectar o Colab ao Google Drive para acessar arquivos\n",
        "\n",
        "from google.colab import drive\n",
        "drive.mount('/content/drive')\n"
      ],
      "metadata": {
        "colab": {
          "base_uri": "https://localhost:8080/"
        },
        "id": "ZV5KAZ-EcQ2a",
        "outputId": "4158f194-f9e2-482e-86d4-29056cb1e6b8"
      },
      "execution_count": 89,
      "outputs": [
        {
          "output_type": "stream",
          "name": "stdout",
          "text": [
            "Drive already mounted at /content/drive; to attempt to forcibly remount, call drive.mount(\"/content/drive\", force_remount=True).\n"
          ]
        }
      ]
    },
    {
      "cell_type": "code",
      "source": [
        "import yaml\n",
        "# Definir a configuração do dataset\n",
        "# Ajustar a ordem das classes conforme as labels (0=tank, 1=warship, 2=soldier)\n",
        "data_config = {\n",
        "    'path': '/content/drive/MyDrive/yolo_war_dataset',  # Caminho para os dados\n",
        "    'train': 'images/train',                            # Imagens de treinamento\n",
        "    'val': 'images/val',                                # Imagens de validação\n",
        "    'names': ['tank', 'warship', 'soldier'],            # Classes (0=tank, 1=warship, 2=soldier)\n",
        "    'nc': 3                                             # Número de classes\n",
        "}\n",
        "\n",
        "# Criar o arquivo data.yaml com as configurações\n",
        "with open('/content/drive/MyDrive/yolo_war_dataset/data.yaml', 'w') as file:\n",
        "    yaml.dump(data_config, file, default_flow_style=False)\n",
        "\n",
        "print(\"Arquivo data.yaml atualizado com sucesso!\")\n",
        "\n"
      ],
      "metadata": {
        "colab": {
          "base_uri": "https://localhost:8080/"
        },
        "id": "DrSlELK7cWgU",
        "outputId": "da2cc9a2-2732-42d5-b301-1e07b3a96835"
      },
      "execution_count": 90,
      "outputs": [
        {
          "output_type": "stream",
          "name": "stdout",
          "text": [
            "Arquivo data.yaml atualizado com sucesso!\n"
          ]
        }
      ]
    },
    {
      "cell_type": "code",
      "source": [
        "# Carregar o modelo pré-treinado (YOLOv8 nano - mais leve e rápido)\n",
        "\n",
        "model = YOLO('yolov8n.pt')  # Use 'yolov8s.pt' ou 'yolov8m.pt' para modelos mais robustos\n",
        "\n",
        "results = model.train(\n",
        "    data='/content/drive/MyDrive/yolo_war_dataset/data.yaml',   # Configuração do dataset\n",
        "    epochs=50,                                                  # Número de épocas (50 rodadas de treinamento)\n",
        "    imgsz=640,                                                  # Tamanho das imagens (640x640 pixels)\n",
        "    batch=16,                                                   # Tamanho do lote (16 imagens por vez)\n",
        "    name='yolo_war_detection',                                  # Nome da pasta de resultados\n",
        "    project='/content/drive/MyDrive/yolo_war_dataset/',         # Salvar no Drive\n",
        "    device=0                                                    # Usar GPU (se disponível) para acelerar o treinamento\n",
        ")"
      ],
      "metadata": {
        "colab": {
          "base_uri": "https://localhost:8080/"
        },
        "collapsed": true,
        "id": "UovRX616cbRI",
        "outputId": "aa3d5233-a94d-4f17-dc4a-9f9588aeff1f"
      },
      "execution_count": 91,
      "outputs": [
        {
          "output_type": "stream",
          "name": "stdout",
          "text": [
            "Ultralytics 8.3.76 🚀 Python-3.11.11 torch-2.5.1+cu121 CUDA:0 (Tesla T4, 15095MiB)\n",
            "\u001b[34m\u001b[1mengine/trainer: \u001b[0mtask=detect, mode=train, model=yolov8n.pt, data=/content/drive/MyDrive/yolo_war_dataset/data.yaml, epochs=50, time=None, patience=100, batch=16, imgsz=640, save=True, save_period=-1, cache=False, device=0, workers=8, project=/content/drive/MyDrive/yolo_war_dataset/, name=yolo_war_detection3, exist_ok=False, pretrained=True, optimizer=auto, verbose=True, seed=0, deterministic=True, single_cls=False, rect=False, cos_lr=False, close_mosaic=10, resume=False, amp=True, fraction=1.0, profile=False, freeze=None, multi_scale=False, overlap_mask=True, mask_ratio=4, dropout=0.0, val=True, split=val, save_json=False, save_hybrid=False, conf=None, iou=0.7, max_det=300, half=False, dnn=False, plots=True, source=None, vid_stride=1, stream_buffer=False, visualize=False, augment=False, agnostic_nms=False, classes=None, retina_masks=False, embed=None, show=False, save_frames=False, save_txt=False, save_conf=False, save_crop=False, show_labels=True, show_conf=True, show_boxes=True, line_width=None, format=torchscript, keras=False, optimize=False, int8=False, dynamic=False, simplify=True, opset=None, workspace=None, nms=False, lr0=0.01, lrf=0.01, momentum=0.937, weight_decay=0.0005, warmup_epochs=3.0, warmup_momentum=0.8, warmup_bias_lr=0.1, box=7.5, cls=0.5, dfl=1.5, pose=12.0, kobj=1.0, nbs=64, hsv_h=0.015, hsv_s=0.7, hsv_v=0.4, degrees=0.0, translate=0.1, scale=0.5, shear=0.0, perspective=0.0, flipud=0.0, fliplr=0.5, bgr=0.0, mosaic=1.0, mixup=0.0, copy_paste=0.0, copy_paste_mode=flip, auto_augment=randaugment, erasing=0.4, crop_fraction=1.0, cfg=None, tracker=botsort.yaml, save_dir=/content/drive/MyDrive/yolo_war_dataset/yolo_war_detection3\n",
            "Overriding model.yaml nc=80 with nc=3\n",
            "\n",
            "                   from  n    params  module                                       arguments                     \n",
            "  0                  -1  1       464  ultralytics.nn.modules.conv.Conv             [3, 16, 3, 2]                 \n",
            "  1                  -1  1      4672  ultralytics.nn.modules.conv.Conv             [16, 32, 3, 2]                \n",
            "  2                  -1  1      7360  ultralytics.nn.modules.block.C2f             [32, 32, 1, True]             \n",
            "  3                  -1  1     18560  ultralytics.nn.modules.conv.Conv             [32, 64, 3, 2]                \n",
            "  4                  -1  2     49664  ultralytics.nn.modules.block.C2f             [64, 64, 2, True]             \n",
            "  5                  -1  1     73984  ultralytics.nn.modules.conv.Conv             [64, 128, 3, 2]               \n",
            "  6                  -1  2    197632  ultralytics.nn.modules.block.C2f             [128, 128, 2, True]           \n",
            "  7                  -1  1    295424  ultralytics.nn.modules.conv.Conv             [128, 256, 3, 2]              \n",
            "  8                  -1  1    460288  ultralytics.nn.modules.block.C2f             [256, 256, 1, True]           \n",
            "  9                  -1  1    164608  ultralytics.nn.modules.block.SPPF            [256, 256, 5]                 \n",
            " 10                  -1  1         0  torch.nn.modules.upsampling.Upsample         [None, 2, 'nearest']          \n",
            " 11             [-1, 6]  1         0  ultralytics.nn.modules.conv.Concat           [1]                           \n",
            " 12                  -1  1    148224  ultralytics.nn.modules.block.C2f             [384, 128, 1]                 \n",
            " 13                  -1  1         0  torch.nn.modules.upsampling.Upsample         [None, 2, 'nearest']          \n",
            " 14             [-1, 4]  1         0  ultralytics.nn.modules.conv.Concat           [1]                           \n",
            " 15                  -1  1     37248  ultralytics.nn.modules.block.C2f             [192, 64, 1]                  \n",
            " 16                  -1  1     36992  ultralytics.nn.modules.conv.Conv             [64, 64, 3, 2]                \n",
            " 17            [-1, 12]  1         0  ultralytics.nn.modules.conv.Concat           [1]                           \n",
            " 18                  -1  1    123648  ultralytics.nn.modules.block.C2f             [192, 128, 1]                 \n",
            " 19                  -1  1    147712  ultralytics.nn.modules.conv.Conv             [128, 128, 3, 2]              \n",
            " 20             [-1, 9]  1         0  ultralytics.nn.modules.conv.Concat           [1]                           \n",
            " 21                  -1  1    493056  ultralytics.nn.modules.block.C2f             [384, 256, 1]                 \n",
            " 22        [15, 18, 21]  1    751897  ultralytics.nn.modules.head.Detect           [3, [64, 128, 256]]           \n",
            "Model summary: 129 layers, 3,011,433 parameters, 3,011,417 gradients, 8.2 GFLOPs\n",
            "\n",
            "Transferred 319/355 items from pretrained weights\n",
            "\u001b[34m\u001b[1mTensorBoard: \u001b[0mStart with 'tensorboard --logdir /content/drive/MyDrive/yolo_war_dataset/yolo_war_detection3', view at http://localhost:6006/\n",
            "Freezing layer 'model.22.dfl.conv.weight'\n",
            "\u001b[34m\u001b[1mAMP: \u001b[0mrunning Automatic Mixed Precision (AMP) checks...\n",
            "\u001b[34m\u001b[1mAMP: \u001b[0mchecks passed ✅\n"
          ]
        },
        {
          "output_type": "stream",
          "name": "stderr",
          "text": [
            "\u001b[34m\u001b[1mtrain: \u001b[0mScanning /content/drive/MyDrive/yolo_war_dataset/labels/train.cache... 56 images, 0 backgrounds, 0 corrupt: 100%|██████████| 56/56 [00:00<?, ?it/s]"
          ]
        },
        {
          "output_type": "stream",
          "name": "stdout",
          "text": [
            "\u001b[34m\u001b[1malbumentations: \u001b[0mBlur(p=0.01, blur_limit=(3, 7)), MedianBlur(p=0.01, blur_limit=(3, 7)), ToGray(p=0.01, num_output_channels=3, method='weighted_average'), CLAHE(p=0.01, clip_limit=(1.0, 4.0), tile_grid_size=(8, 8))\n"
          ]
        },
        {
          "output_type": "stream",
          "name": "stderr",
          "text": [
            "\n",
            "\u001b[34m\u001b[1mval: \u001b[0mScanning /content/drive/MyDrive/yolo_war_dataset/labels/val.cache... 18 images, 0 backgrounds, 0 corrupt: 100%|██████████| 18/18 [00:00<?, ?it/s]\n"
          ]
        },
        {
          "output_type": "stream",
          "name": "stdout",
          "text": [
            "Plotting labels to /content/drive/MyDrive/yolo_war_dataset/yolo_war_detection3/labels.jpg... \n",
            "\u001b[34m\u001b[1moptimizer:\u001b[0m 'optimizer=auto' found, ignoring 'lr0=0.01' and 'momentum=0.937' and determining best 'optimizer', 'lr0' and 'momentum' automatically... \n",
            "\u001b[34m\u001b[1moptimizer:\u001b[0m AdamW(lr=0.001429, momentum=0.9) with parameter groups 57 weight(decay=0.0), 64 weight(decay=0.0005), 63 bias(decay=0.0)\n",
            "\u001b[34m\u001b[1mTensorBoard: \u001b[0mmodel graph visualization added ✅\n",
            "Image sizes 640 train, 640 val\n",
            "Using 2 dataloader workers\n",
            "Logging results to \u001b[1m/content/drive/MyDrive/yolo_war_dataset/yolo_war_detection3\u001b[0m\n",
            "Starting training for 50 epochs...\n",
            "\n",
            "      Epoch    GPU_mem   box_loss   cls_loss   dfl_loss  Instances       Size\n"
          ]
        },
        {
          "output_type": "stream",
          "name": "stderr",
          "text": [
            "       1/50      2.12G      1.699      3.287       1.78         37        640: 100%|██████████| 4/4 [00:01<00:00,  2.03it/s]\n",
            "                 Class     Images  Instances      Box(P          R      mAP50  mAP50-95): 100%|██████████| 1/1 [00:00<00:00,  3.05it/s]"
          ]
        },
        {
          "output_type": "stream",
          "name": "stdout",
          "text": [
            "                   all         18         45    0.00618      0.755      0.103     0.0544\n"
          ]
        },
        {
          "output_type": "stream",
          "name": "stderr",
          "text": [
            "\n"
          ]
        },
        {
          "output_type": "stream",
          "name": "stdout",
          "text": [
            "\n",
            "      Epoch    GPU_mem   box_loss   cls_loss   dfl_loss  Instances       Size\n"
          ]
        },
        {
          "output_type": "stream",
          "name": "stderr",
          "text": [
            "       2/50      2.05G      1.575      3.271      1.723         43        640: 100%|██████████| 4/4 [00:00<00:00,  4.06it/s]\n",
            "                 Class     Images  Instances      Box(P          R      mAP50  mAP50-95): 100%|██████████| 1/1 [00:00<00:00,  4.16it/s]"
          ]
        },
        {
          "output_type": "stream",
          "name": "stdout",
          "text": [
            "                   all         18         45    0.00539      0.679      0.267       0.16\n"
          ]
        },
        {
          "output_type": "stream",
          "name": "stderr",
          "text": [
            "\n"
          ]
        },
        {
          "output_type": "stream",
          "name": "stdout",
          "text": [
            "\n",
            "      Epoch    GPU_mem   box_loss   cls_loss   dfl_loss  Instances       Size\n"
          ]
        },
        {
          "output_type": "stream",
          "name": "stderr",
          "text": [
            "       3/50      2.13G      1.327      3.001      1.609         48        640: 100%|██████████| 4/4 [00:00<00:00,  4.74it/s]\n",
            "                 Class     Images  Instances      Box(P          R      mAP50  mAP50-95): 100%|██████████| 1/1 [00:00<00:00,  2.74it/s]"
          ]
        },
        {
          "output_type": "stream",
          "name": "stdout",
          "text": [
            "                   all         18         45    0.00556      0.633      0.425      0.218\n"
          ]
        },
        {
          "output_type": "stream",
          "name": "stderr",
          "text": [
            "\n"
          ]
        },
        {
          "output_type": "stream",
          "name": "stdout",
          "text": [
            "\n",
            "      Epoch    GPU_mem   box_loss   cls_loss   dfl_loss  Instances       Size\n"
          ]
        },
        {
          "output_type": "stream",
          "name": "stderr",
          "text": [
            "       4/50      2.13G      1.219      2.519      1.482         46        640: 100%|██████████| 4/4 [00:00<00:00,  4.02it/s]\n",
            "                 Class     Images  Instances      Box(P          R      mAP50  mAP50-95): 100%|██████████| 1/1 [00:00<00:00,  6.33it/s]\n"
          ]
        },
        {
          "output_type": "stream",
          "name": "stdout",
          "text": [
            "                   all         18         45    0.00607      0.603      0.413      0.247\n",
            "\n",
            "      Epoch    GPU_mem   box_loss   cls_loss   dfl_loss  Instances       Size\n"
          ]
        },
        {
          "output_type": "stream",
          "name": "stderr",
          "text": [
            "       5/50      2.14G      1.188      2.064      1.441         61        640: 100%|██████████| 4/4 [00:00<00:00,  4.42it/s]\n",
            "                 Class     Images  Instances      Box(P          R      mAP50  mAP50-95): 100%|██████████| 1/1 [00:00<00:00,  5.90it/s]\n"
          ]
        },
        {
          "output_type": "stream",
          "name": "stdout",
          "text": [
            "                   all         18         45    0.00627      0.609      0.475       0.31\n",
            "\n",
            "      Epoch    GPU_mem   box_loss   cls_loss   dfl_loss  Instances       Size\n"
          ]
        },
        {
          "output_type": "stream",
          "name": "stderr",
          "text": [
            "       6/50      2.13G      1.059      1.822      1.351         47        640: 100%|██████████| 4/4 [00:01<00:00,  3.49it/s]\n",
            "                 Class     Images  Instances      Box(P          R      mAP50  mAP50-95): 100%|██████████| 1/1 [00:00<00:00,  2.04it/s]"
          ]
        },
        {
          "output_type": "stream",
          "name": "stdout",
          "text": [
            "                   all         18         45    0.00761      0.633      0.559      0.378\n"
          ]
        },
        {
          "output_type": "stream",
          "name": "stderr",
          "text": [
            "\n"
          ]
        },
        {
          "output_type": "stream",
          "name": "stdout",
          "text": [
            "\n",
            "      Epoch    GPU_mem   box_loss   cls_loss   dfl_loss  Instances       Size\n"
          ]
        },
        {
          "output_type": "stream",
          "name": "stderr",
          "text": [
            "       7/50      2.13G      1.002      1.637      1.347         49        640: 100%|██████████| 4/4 [00:00<00:00,  4.62it/s]\n",
            "                 Class     Images  Instances      Box(P          R      mAP50  mAP50-95): 100%|██████████| 1/1 [00:00<00:00,  5.14it/s]\n"
          ]
        },
        {
          "output_type": "stream",
          "name": "stdout",
          "text": [
            "                   all         18         45     0.0091      0.615      0.575      0.398\n",
            "\n",
            "      Epoch    GPU_mem   box_loss   cls_loss   dfl_loss  Instances       Size\n"
          ]
        },
        {
          "output_type": "stream",
          "name": "stderr",
          "text": [
            "       8/50      2.13G      1.033      1.487      1.379         36        640: 100%|██████████| 4/4 [00:00<00:00,  4.60it/s]\n",
            "                 Class     Images  Instances      Box(P          R      mAP50  mAP50-95): 100%|██████████| 1/1 [00:00<00:00,  7.62it/s]"
          ]
        },
        {
          "output_type": "stream",
          "name": "stdout",
          "text": [
            "                   all         18         45          1     0.0834       0.57       0.36\n"
          ]
        },
        {
          "output_type": "stream",
          "name": "stderr",
          "text": [
            "\n"
          ]
        },
        {
          "output_type": "stream",
          "name": "stdout",
          "text": [
            "\n",
            "      Epoch    GPU_mem   box_loss   cls_loss   dfl_loss  Instances       Size\n"
          ]
        },
        {
          "output_type": "stream",
          "name": "stderr",
          "text": [
            "       9/50      2.13G     0.9863      1.368      1.294         49        640: 100%|██████████| 4/4 [00:00<00:00,  4.85it/s]\n",
            "                 Class     Images  Instances      Box(P          R      mAP50  mAP50-95): 100%|██████████| 1/1 [00:00<00:00,  6.80it/s]"
          ]
        },
        {
          "output_type": "stream",
          "name": "stdout",
          "text": [
            "                   all         18         45      0.962      0.246      0.566      0.329\n"
          ]
        },
        {
          "output_type": "stream",
          "name": "stderr",
          "text": [
            "\n"
          ]
        },
        {
          "output_type": "stream",
          "name": "stdout",
          "text": [
            "\n",
            "      Epoch    GPU_mem   box_loss   cls_loss   dfl_loss  Instances       Size\n"
          ]
        },
        {
          "output_type": "stream",
          "name": "stderr",
          "text": [
            "      10/50      2.14G      1.031      1.371      1.359         42        640: 100%|██████████| 4/4 [00:00<00:00,  4.66it/s]\n",
            "                 Class     Images  Instances      Box(P          R      mAP50  mAP50-95): 100%|██████████| 1/1 [00:00<00:00,  6.78it/s]"
          ]
        },
        {
          "output_type": "stream",
          "name": "stdout",
          "text": [
            "                   all         18         45      0.934      0.479      0.643      0.425\n"
          ]
        },
        {
          "output_type": "stream",
          "name": "stderr",
          "text": [
            "\n"
          ]
        },
        {
          "output_type": "stream",
          "name": "stdout",
          "text": [
            "\n",
            "      Epoch    GPU_mem   box_loss   cls_loss   dfl_loss  Instances       Size\n"
          ]
        },
        {
          "output_type": "stream",
          "name": "stderr",
          "text": [
            "      11/50      2.14G      1.022      1.316      1.302         48        640: 100%|██████████| 4/4 [00:00<00:00,  4.35it/s]\n",
            "                 Class     Images  Instances      Box(P          R      mAP50  mAP50-95): 100%|██████████| 1/1 [00:00<00:00,  5.01it/s]"
          ]
        },
        {
          "output_type": "stream",
          "name": "stdout",
          "text": [
            "                   all         18         45      0.929      0.599      0.655      0.445\n"
          ]
        },
        {
          "output_type": "stream",
          "name": "stderr",
          "text": [
            "\n"
          ]
        },
        {
          "output_type": "stream",
          "name": "stdout",
          "text": [
            "\n",
            "      Epoch    GPU_mem   box_loss   cls_loss   dfl_loss  Instances       Size\n"
          ]
        },
        {
          "output_type": "stream",
          "name": "stderr",
          "text": [
            "      12/50      2.13G     0.9437      1.193      1.243         54        640: 100%|██████████| 4/4 [00:00<00:00,  4.12it/s]\n",
            "                 Class     Images  Instances      Box(P          R      mAP50  mAP50-95): 100%|██████████| 1/1 [00:00<00:00,  4.29it/s]"
          ]
        },
        {
          "output_type": "stream",
          "name": "stdout",
          "text": [
            "                   all         18         45      0.874      0.526      0.593      0.395\n"
          ]
        },
        {
          "output_type": "stream",
          "name": "stderr",
          "text": [
            "\n"
          ]
        },
        {
          "output_type": "stream",
          "name": "stdout",
          "text": [
            "\n",
            "      Epoch    GPU_mem   box_loss   cls_loss   dfl_loss  Instances       Size\n"
          ]
        },
        {
          "output_type": "stream",
          "name": "stderr",
          "text": [
            "      13/50      2.13G     0.9883      1.226       1.29         42        640: 100%|██████████| 4/4 [00:01<00:00,  3.50it/s]\n",
            "                 Class     Images  Instances      Box(P          R      mAP50  mAP50-95): 100%|██████████| 1/1 [00:00<00:00,  2.66it/s]"
          ]
        },
        {
          "output_type": "stream",
          "name": "stdout",
          "text": [
            "                   all         18         45      0.858      0.476      0.619      0.408\n"
          ]
        },
        {
          "output_type": "stream",
          "name": "stderr",
          "text": [
            "\n"
          ]
        },
        {
          "output_type": "stream",
          "name": "stdout",
          "text": [
            "\n",
            "      Epoch    GPU_mem   box_loss   cls_loss   dfl_loss  Instances       Size\n"
          ]
        },
        {
          "output_type": "stream",
          "name": "stderr",
          "text": [
            "      14/50      2.13G     0.9873      1.227      1.311         41        640: 100%|██████████| 4/4 [00:00<00:00,  4.79it/s]\n",
            "                 Class     Images  Instances      Box(P          R      mAP50  mAP50-95): 100%|██████████| 1/1 [00:00<00:00,  4.79it/s]"
          ]
        },
        {
          "output_type": "stream",
          "name": "stdout",
          "text": [
            "                   all         18         45      0.942      0.421      0.638       0.42\n"
          ]
        },
        {
          "output_type": "stream",
          "name": "stderr",
          "text": [
            "\n"
          ]
        },
        {
          "output_type": "stream",
          "name": "stdout",
          "text": [
            "\n",
            "      Epoch    GPU_mem   box_loss   cls_loss   dfl_loss  Instances       Size\n"
          ]
        },
        {
          "output_type": "stream",
          "name": "stderr",
          "text": [
            "      15/50      2.13G     0.9273      1.153      1.284         43        640: 100%|██████████| 4/4 [00:00<00:00,  4.95it/s]\n",
            "                 Class     Images  Instances      Box(P          R      mAP50  mAP50-95): 100%|██████████| 1/1 [00:00<00:00,  4.73it/s]"
          ]
        },
        {
          "output_type": "stream",
          "name": "stdout",
          "text": [
            "                   all         18         45      0.683      0.493       0.66      0.427\n"
          ]
        },
        {
          "output_type": "stream",
          "name": "stderr",
          "text": [
            "\n"
          ]
        },
        {
          "output_type": "stream",
          "name": "stdout",
          "text": [
            "\n",
            "      Epoch    GPU_mem   box_loss   cls_loss   dfl_loss  Instances       Size\n"
          ]
        },
        {
          "output_type": "stream",
          "name": "stderr",
          "text": [
            "      16/50      2.14G     0.9563      1.158       1.26         58        640: 100%|██████████| 4/4 [00:00<00:00,  4.81it/s]\n",
            "                 Class     Images  Instances      Box(P          R      mAP50  mAP50-95): 100%|██████████| 1/1 [00:00<00:00,  6.61it/s]"
          ]
        },
        {
          "output_type": "stream",
          "name": "stdout",
          "text": [
            "                   all         18         45      0.703       0.56      0.676      0.437\n"
          ]
        },
        {
          "output_type": "stream",
          "name": "stderr",
          "text": [
            "\n"
          ]
        },
        {
          "output_type": "stream",
          "name": "stdout",
          "text": [
            "\n",
            "      Epoch    GPU_mem   box_loss   cls_loss   dfl_loss  Instances       Size\n"
          ]
        },
        {
          "output_type": "stream",
          "name": "stderr",
          "text": [
            "      17/50      2.14G     0.8587      1.142      1.231         42        640: 100%|██████████| 4/4 [00:00<00:00,  5.37it/s]\n",
            "                 Class     Images  Instances      Box(P          R      mAP50  mAP50-95): 100%|██████████| 1/1 [00:00<00:00,  3.45it/s]"
          ]
        },
        {
          "output_type": "stream",
          "name": "stdout",
          "text": [
            "                   all         18         45      0.848      0.555      0.777      0.494\n"
          ]
        },
        {
          "output_type": "stream",
          "name": "stderr",
          "text": [
            "\n"
          ]
        },
        {
          "output_type": "stream",
          "name": "stdout",
          "text": [
            "\n",
            "      Epoch    GPU_mem   box_loss   cls_loss   dfl_loss  Instances       Size\n"
          ]
        },
        {
          "output_type": "stream",
          "name": "stderr",
          "text": [
            "      18/50      2.13G     0.9158      1.141      1.248         48        640: 100%|██████████| 4/4 [00:00<00:00,  4.91it/s]\n",
            "                 Class     Images  Instances      Box(P          R      mAP50  mAP50-95): 100%|██████████| 1/1 [00:00<00:00,  5.99it/s]"
          ]
        },
        {
          "output_type": "stream",
          "name": "stdout",
          "text": [
            "                   all         18         45      0.891       0.55      0.824       0.53\n"
          ]
        },
        {
          "output_type": "stream",
          "name": "stderr",
          "text": [
            "\n"
          ]
        },
        {
          "output_type": "stream",
          "name": "stdout",
          "text": [
            "\n",
            "      Epoch    GPU_mem   box_loss   cls_loss   dfl_loss  Instances       Size\n"
          ]
        },
        {
          "output_type": "stream",
          "name": "stderr",
          "text": [
            "      19/50      2.14G     0.9117      1.047      1.213         55        640: 100%|██████████| 4/4 [00:00<00:00,  4.22it/s]\n",
            "                 Class     Images  Instances      Box(P          R      mAP50  mAP50-95): 100%|██████████| 1/1 [00:00<00:00,  2.39it/s]"
          ]
        },
        {
          "output_type": "stream",
          "name": "stdout",
          "text": [
            "                   all         18         45      0.938      0.544      0.837      0.568\n"
          ]
        },
        {
          "output_type": "stream",
          "name": "stderr",
          "text": [
            "\n"
          ]
        },
        {
          "output_type": "stream",
          "name": "stdout",
          "text": [
            "\n",
            "      Epoch    GPU_mem   box_loss   cls_loss   dfl_loss  Instances       Size\n"
          ]
        },
        {
          "output_type": "stream",
          "name": "stderr",
          "text": [
            "      20/50      2.14G     0.9224      1.115      1.303         34        640: 100%|██████████| 4/4 [00:01<00:00,  3.46it/s]\n",
            "                 Class     Images  Instances      Box(P          R      mAP50  mAP50-95): 100%|██████████| 1/1 [00:00<00:00,  1.95it/s]"
          ]
        },
        {
          "output_type": "stream",
          "name": "stdout",
          "text": [
            "                   all         18         45       0.96      0.514      0.885      0.602\n"
          ]
        },
        {
          "output_type": "stream",
          "name": "stderr",
          "text": [
            "\n"
          ]
        },
        {
          "output_type": "stream",
          "name": "stdout",
          "text": [
            "\n",
            "      Epoch    GPU_mem   box_loss   cls_loss   dfl_loss  Instances       Size\n"
          ]
        },
        {
          "output_type": "stream",
          "name": "stderr",
          "text": [
            "      21/50      2.13G     0.9061      1.095      1.218         56        640: 100%|██████████| 4/4 [00:00<00:00,  4.61it/s]\n",
            "                 Class     Images  Instances      Box(P          R      mAP50  mAP50-95): 100%|██████████| 1/1 [00:00<00:00,  6.44it/s]\n"
          ]
        },
        {
          "output_type": "stream",
          "name": "stdout",
          "text": [
            "                   all         18         45       0.81      0.686      0.891      0.595\n",
            "\n",
            "      Epoch    GPU_mem   box_loss   cls_loss   dfl_loss  Instances       Size\n"
          ]
        },
        {
          "output_type": "stream",
          "name": "stderr",
          "text": [
            "      22/50      2.13G     0.8856       1.07      1.237         37        640: 100%|██████████| 4/4 [00:00<00:00,  4.74it/s]\n",
            "                 Class     Images  Instances      Box(P          R      mAP50  mAP50-95): 100%|██████████| 1/1 [00:00<00:00,  6.47it/s]"
          ]
        },
        {
          "output_type": "stream",
          "name": "stdout",
          "text": [
            "                   all         18         45      0.983      0.567      0.873      0.593\n"
          ]
        },
        {
          "output_type": "stream",
          "name": "stderr",
          "text": [
            "\n"
          ]
        },
        {
          "output_type": "stream",
          "name": "stdout",
          "text": [
            "\n",
            "      Epoch    GPU_mem   box_loss   cls_loss   dfl_loss  Instances       Size\n"
          ]
        },
        {
          "output_type": "stream",
          "name": "stderr",
          "text": [
            "      23/50      2.13G     0.9563      1.067      1.267         63        640: 100%|██████████| 4/4 [00:00<00:00,  5.15it/s]\n",
            "                 Class     Images  Instances      Box(P          R      mAP50  mAP50-95): 100%|██████████| 1/1 [00:00<00:00,  4.73it/s]"
          ]
        },
        {
          "output_type": "stream",
          "name": "stdout",
          "text": [
            "                   all         18         45      0.951      0.555      0.817      0.553\n"
          ]
        },
        {
          "output_type": "stream",
          "name": "stderr",
          "text": [
            "\n"
          ]
        },
        {
          "output_type": "stream",
          "name": "stdout",
          "text": [
            "\n",
            "      Epoch    GPU_mem   box_loss   cls_loss   dfl_loss  Instances       Size\n"
          ]
        },
        {
          "output_type": "stream",
          "name": "stderr",
          "text": [
            "      24/50      2.13G     0.9551      1.138      1.286         50        640: 100%|██████████| 4/4 [00:00<00:00,  5.05it/s]\n",
            "                 Class     Images  Instances      Box(P          R      mAP50  mAP50-95): 100%|██████████| 1/1 [00:00<00:00,  4.81it/s]"
          ]
        },
        {
          "output_type": "stream",
          "name": "stdout",
          "text": [
            "                   all         18         45      0.936      0.594      0.832       0.55\n"
          ]
        },
        {
          "output_type": "stream",
          "name": "stderr",
          "text": [
            "\n"
          ]
        },
        {
          "output_type": "stream",
          "name": "stdout",
          "text": [
            "\n",
            "      Epoch    GPU_mem   box_loss   cls_loss   dfl_loss  Instances       Size\n"
          ]
        },
        {
          "output_type": "stream",
          "name": "stderr",
          "text": [
            "      25/50      2.14G     0.9413      1.077       1.25         60        640: 100%|██████████| 4/4 [00:00<00:00,  5.11it/s]\n",
            "                 Class     Images  Instances      Box(P          R      mAP50  mAP50-95): 100%|██████████| 1/1 [00:00<00:00,  5.77it/s]\n"
          ]
        },
        {
          "output_type": "stream",
          "name": "stdout",
          "text": [
            "                   all         18         45      0.968      0.608       0.84      0.545\n",
            "\n",
            "      Epoch    GPU_mem   box_loss   cls_loss   dfl_loss  Instances       Size\n"
          ]
        },
        {
          "output_type": "stream",
          "name": "stderr",
          "text": [
            "      26/50      2.13G     0.8551       1.04      1.225         41        640: 100%|██████████| 4/4 [00:01<00:00,  3.82it/s]\n",
            "                 Class     Images  Instances      Box(P          R      mAP50  mAP50-95): 100%|██████████| 1/1 [00:00<00:00,  5.58it/s]\n"
          ]
        },
        {
          "output_type": "stream",
          "name": "stdout",
          "text": [
            "                   all         18         45      0.882       0.71      0.864      0.572\n",
            "\n",
            "      Epoch    GPU_mem   box_loss   cls_loss   dfl_loss  Instances       Size\n"
          ]
        },
        {
          "output_type": "stream",
          "name": "stderr",
          "text": [
            "      27/50      2.13G     0.8383      1.011      1.191         35        640: 100%|██████████| 4/4 [00:01<00:00,  3.61it/s]\n",
            "                 Class     Images  Instances      Box(P          R      mAP50  mAP50-95): 100%|██████████| 1/1 [00:00<00:00,  2.27it/s]"
          ]
        },
        {
          "output_type": "stream",
          "name": "stdout",
          "text": [
            "                   all         18         45      0.782      0.812      0.902      0.589\n"
          ]
        },
        {
          "output_type": "stream",
          "name": "stderr",
          "text": [
            "\n"
          ]
        },
        {
          "output_type": "stream",
          "name": "stdout",
          "text": [
            "\n",
            "      Epoch    GPU_mem   box_loss   cls_loss   dfl_loss  Instances       Size\n"
          ]
        },
        {
          "output_type": "stream",
          "name": "stderr",
          "text": [
            "      28/50      2.14G     0.9348     0.9978      1.247         42        640: 100%|██████████| 4/4 [00:00<00:00,  4.70it/s]\n",
            "                 Class     Images  Instances      Box(P          R      mAP50  mAP50-95): 100%|██████████| 1/1 [00:00<00:00,  6.70it/s]\n"
          ]
        },
        {
          "output_type": "stream",
          "name": "stdout",
          "text": [
            "                   all         18         45       0.76      0.786      0.894      0.615\n",
            "\n",
            "      Epoch    GPU_mem   box_loss   cls_loss   dfl_loss  Instances       Size\n"
          ]
        },
        {
          "output_type": "stream",
          "name": "stderr",
          "text": [
            "      29/50      2.13G     0.8657      1.026      1.215         49        640: 100%|██████████| 4/4 [00:00<00:00,  5.49it/s]\n",
            "                 Class     Images  Instances      Box(P          R      mAP50  mAP50-95): 100%|██████████| 1/1 [00:00<00:00,  7.19it/s]\n"
          ]
        },
        {
          "output_type": "stream",
          "name": "stdout",
          "text": [
            "                   all         18         45      0.842      0.848      0.929      0.662\n",
            "\n",
            "      Epoch    GPU_mem   box_loss   cls_loss   dfl_loss  Instances       Size\n"
          ]
        },
        {
          "output_type": "stream",
          "name": "stderr",
          "text": [
            "      30/50      2.09G     0.8956      1.113      1.265         43        640: 100%|██████████| 4/4 [00:00<00:00,  4.68it/s]\n",
            "                 Class     Images  Instances      Box(P          R      mAP50  mAP50-95): 100%|██████████| 1/1 [00:00<00:00,  6.40it/s]"
          ]
        },
        {
          "output_type": "stream",
          "name": "stdout",
          "text": [
            "                   all         18         45      0.899      0.902      0.946       0.63\n"
          ]
        },
        {
          "output_type": "stream",
          "name": "stderr",
          "text": [
            "\n"
          ]
        },
        {
          "output_type": "stream",
          "name": "stdout",
          "text": [
            "\n",
            "      Epoch    GPU_mem   box_loss   cls_loss   dfl_loss  Instances       Size\n"
          ]
        },
        {
          "output_type": "stream",
          "name": "stderr",
          "text": [
            "      31/50      2.13G     0.9043     0.9952      1.215         52        640: 100%|██████████| 4/4 [00:00<00:00,  5.45it/s]\n",
            "                 Class     Images  Instances      Box(P          R      mAP50  mAP50-95): 100%|██████████| 1/1 [00:00<00:00,  3.69it/s]"
          ]
        },
        {
          "output_type": "stream",
          "name": "stdout",
          "text": [
            "                   all         18         45       0.89      0.849      0.934      0.625\n"
          ]
        },
        {
          "output_type": "stream",
          "name": "stderr",
          "text": [
            "\n"
          ]
        },
        {
          "output_type": "stream",
          "name": "stdout",
          "text": [
            "\n",
            "      Epoch    GPU_mem   box_loss   cls_loss   dfl_loss  Instances       Size\n"
          ]
        },
        {
          "output_type": "stream",
          "name": "stderr",
          "text": [
            "      32/50      2.13G     0.7634     0.9066      1.133         39        640: 100%|██████████| 4/4 [00:00<00:00,  4.13it/s]\n",
            "                 Class     Images  Instances      Box(P          R      mAP50  mAP50-95): 100%|██████████| 1/1 [00:00<00:00,  6.46it/s]"
          ]
        },
        {
          "output_type": "stream",
          "name": "stdout",
          "text": [
            "                   all         18         45      0.919      0.841      0.938      0.601\n"
          ]
        },
        {
          "output_type": "stream",
          "name": "stderr",
          "text": [
            "\n"
          ]
        },
        {
          "output_type": "stream",
          "name": "stdout",
          "text": [
            "\n",
            "      Epoch    GPU_mem   box_loss   cls_loss   dfl_loss  Instances       Size\n"
          ]
        },
        {
          "output_type": "stream",
          "name": "stderr",
          "text": [
            "      33/50      2.14G     0.7859     0.9147      1.163         48        640: 100%|██████████| 4/4 [00:00<00:00,  4.24it/s]\n",
            "                 Class     Images  Instances      Box(P          R      mAP50  mAP50-95): 100%|██████████| 1/1 [00:00<00:00,  3.95it/s]"
          ]
        },
        {
          "output_type": "stream",
          "name": "stdout",
          "text": [
            "                   all         18         45      0.914      0.835      0.948      0.616\n"
          ]
        },
        {
          "output_type": "stream",
          "name": "stderr",
          "text": [
            "\n"
          ]
        },
        {
          "output_type": "stream",
          "name": "stdout",
          "text": [
            "\n",
            "      Epoch    GPU_mem   box_loss   cls_loss   dfl_loss  Instances       Size\n"
          ]
        },
        {
          "output_type": "stream",
          "name": "stderr",
          "text": [
            "      34/50      2.14G     0.8309     0.9525      1.219         32        640: 100%|██████████| 4/4 [00:01<00:00,  3.56it/s]\n",
            "                 Class     Images  Instances      Box(P          R      mAP50  mAP50-95): 100%|██████████| 1/1 [00:00<00:00,  2.26it/s]"
          ]
        },
        {
          "output_type": "stream",
          "name": "stdout",
          "text": [
            "                   all         18         45      0.901      0.944      0.958      0.644\n"
          ]
        },
        {
          "output_type": "stream",
          "name": "stderr",
          "text": [
            "\n"
          ]
        },
        {
          "output_type": "stream",
          "name": "stdout",
          "text": [
            "\n",
            "      Epoch    GPU_mem   box_loss   cls_loss   dfl_loss  Instances       Size\n"
          ]
        },
        {
          "output_type": "stream",
          "name": "stderr",
          "text": [
            "      35/50      2.13G     0.8622     0.9569      1.192         54        640: 100%|██████████| 4/4 [00:00<00:00,  4.76it/s]\n",
            "                 Class     Images  Instances      Box(P          R      mAP50  mAP50-95): 100%|██████████| 1/1 [00:00<00:00,  7.00it/s]"
          ]
        },
        {
          "output_type": "stream",
          "name": "stdout",
          "text": [
            "                   all         18         45      0.951      0.921      0.948      0.641\n"
          ]
        },
        {
          "output_type": "stream",
          "name": "stderr",
          "text": [
            "\n"
          ]
        },
        {
          "output_type": "stream",
          "name": "stdout",
          "text": [
            "\n",
            "      Epoch    GPU_mem   box_loss   cls_loss   dfl_loss  Instances       Size\n"
          ]
        },
        {
          "output_type": "stream",
          "name": "stderr",
          "text": [
            "      36/50      2.11G     0.8109     0.9242      1.178         49        640: 100%|██████████| 4/4 [00:00<00:00,  4.77it/s]\n",
            "                 Class     Images  Instances      Box(P          R      mAP50  mAP50-95): 100%|██████████| 1/1 [00:00<00:00,  5.55it/s]"
          ]
        },
        {
          "output_type": "stream",
          "name": "stdout",
          "text": [
            "                   all         18         45      0.934      0.946      0.952      0.651\n"
          ]
        },
        {
          "output_type": "stream",
          "name": "stderr",
          "text": [
            "\n"
          ]
        },
        {
          "output_type": "stream",
          "name": "stdout",
          "text": [
            "\n",
            "      Epoch    GPU_mem   box_loss   cls_loss   dfl_loss  Instances       Size\n"
          ]
        },
        {
          "output_type": "stream",
          "name": "stderr",
          "text": [
            "      37/50      2.14G     0.8018     0.8662      1.139         50        640: 100%|██████████| 4/4 [00:00<00:00,  5.18it/s]\n",
            "                 Class     Images  Instances      Box(P          R      mAP50  mAP50-95): 100%|██████████| 1/1 [00:00<00:00,  4.51it/s]"
          ]
        },
        {
          "output_type": "stream",
          "name": "stdout",
          "text": [
            "                   all         18         45      0.947      0.906      0.943      0.659\n"
          ]
        },
        {
          "output_type": "stream",
          "name": "stderr",
          "text": [
            "\n"
          ]
        },
        {
          "output_type": "stream",
          "name": "stdout",
          "text": [
            "\n",
            "      Epoch    GPU_mem   box_loss   cls_loss   dfl_loss  Instances       Size\n"
          ]
        },
        {
          "output_type": "stream",
          "name": "stderr",
          "text": [
            "      38/50      2.13G     0.8759     0.9195      1.204         49        640: 100%|██████████| 4/4 [00:00<00:00,  5.07it/s]\n",
            "                 Class     Images  Instances      Box(P          R      mAP50  mAP50-95): 100%|██████████| 1/1 [00:00<00:00,  5.33it/s]"
          ]
        },
        {
          "output_type": "stream",
          "name": "stdout",
          "text": [
            "                   all         18         45      0.941      0.903       0.94      0.643\n"
          ]
        },
        {
          "output_type": "stream",
          "name": "stderr",
          "text": [
            "\n"
          ]
        },
        {
          "output_type": "stream",
          "name": "stdout",
          "text": [
            "\n",
            "      Epoch    GPU_mem   box_loss   cls_loss   dfl_loss  Instances       Size\n"
          ]
        },
        {
          "output_type": "stream",
          "name": "stderr",
          "text": [
            "      39/50      2.13G     0.7951     0.8844      1.173         35        640: 100%|██████████| 4/4 [00:01<00:00,  3.79it/s]\n",
            "                 Class     Images  Instances      Box(P          R      mAP50  mAP50-95): 100%|██████████| 1/1 [00:00<00:00,  5.70it/s]"
          ]
        },
        {
          "output_type": "stream",
          "name": "stdout",
          "text": [
            "                   all         18         45      0.942      0.905       0.94      0.636\n"
          ]
        },
        {
          "output_type": "stream",
          "name": "stderr",
          "text": [
            "\n"
          ]
        },
        {
          "output_type": "stream",
          "name": "stdout",
          "text": [
            "\n",
            "      Epoch    GPU_mem   box_loss   cls_loss   dfl_loss  Instances       Size\n"
          ]
        },
        {
          "output_type": "stream",
          "name": "stderr",
          "text": [
            "      40/50      2.13G     0.7866     0.9183       1.17         36        640: 100%|██████████| 4/4 [00:01<00:00,  2.98it/s]\n",
            "                 Class     Images  Instances      Box(P          R      mAP50  mAP50-95): 100%|██████████| 1/1 [00:00<00:00,  1.99it/s]"
          ]
        },
        {
          "output_type": "stream",
          "name": "stdout",
          "text": [
            "                   all         18         45      0.966        0.9      0.946      0.638\n"
          ]
        },
        {
          "output_type": "stream",
          "name": "stderr",
          "text": [
            "\n"
          ]
        },
        {
          "output_type": "stream",
          "name": "stdout",
          "text": [
            "Closing dataloader mosaic\n",
            "\u001b[34m\u001b[1malbumentations: \u001b[0mBlur(p=0.01, blur_limit=(3, 7)), MedianBlur(p=0.01, blur_limit=(3, 7)), ToGray(p=0.01, num_output_channels=3, method='weighted_average'), CLAHE(p=0.01, clip_limit=(1.0, 4.0), tile_grid_size=(8, 8))\n",
            "\n",
            "      Epoch    GPU_mem   box_loss   cls_loss   dfl_loss  Instances       Size\n"
          ]
        },
        {
          "output_type": "stream",
          "name": "stderr",
          "text": [
            "      41/50      2.09G     0.7813      1.089      1.135         16        640: 100%|██████████| 4/4 [00:02<00:00,  1.52it/s]\n",
            "                 Class     Images  Instances      Box(P          R      mAP50  mAP50-95): 100%|██████████| 1/1 [00:00<00:00,  2.90it/s]"
          ]
        },
        {
          "output_type": "stream",
          "name": "stdout",
          "text": [
            "                   all         18         45       0.97      0.908      0.947      0.653\n"
          ]
        },
        {
          "output_type": "stream",
          "name": "stderr",
          "text": [
            "\n"
          ]
        },
        {
          "output_type": "stream",
          "name": "stdout",
          "text": [
            "\n",
            "      Epoch    GPU_mem   box_loss   cls_loss   dfl_loss  Instances       Size\n"
          ]
        },
        {
          "output_type": "stream",
          "name": "stderr",
          "text": [
            "      42/50      2.09G      0.722     0.9839      1.123         18        640: 100%|██████████| 4/4 [00:00<00:00,  4.81it/s]\n",
            "                 Class     Images  Instances      Box(P          R      mAP50  mAP50-95): 100%|██████████| 1/1 [00:00<00:00,  5.43it/s]\n"
          ]
        },
        {
          "output_type": "stream",
          "name": "stdout",
          "text": [
            "                   all         18         45      0.969      0.912      0.949       0.65\n",
            "\n",
            "      Epoch    GPU_mem   box_loss   cls_loss   dfl_loss  Instances       Size\n"
          ]
        },
        {
          "output_type": "stream",
          "name": "stderr",
          "text": [
            "      43/50      2.09G      0.705      0.966      1.069         29        640: 100%|██████████| 4/4 [00:00<00:00,  5.23it/s]\n",
            "                 Class     Images  Instances      Box(P          R      mAP50  mAP50-95): 100%|██████████| 1/1 [00:00<00:00,  5.26it/s]\n"
          ]
        },
        {
          "output_type": "stream",
          "name": "stdout",
          "text": [
            "                   all         18         45      0.954      0.911      0.948      0.643\n",
            "\n",
            "      Epoch    GPU_mem   box_loss   cls_loss   dfl_loss  Instances       Size\n"
          ]
        },
        {
          "output_type": "stream",
          "name": "stderr",
          "text": [
            "      44/50      2.09G     0.7125     0.9601      1.086         17        640: 100%|██████████| 4/4 [00:00<00:00,  5.05it/s]\n",
            "                 Class     Images  Instances      Box(P          R      mAP50  mAP50-95): 100%|██████████| 1/1 [00:00<00:00,  3.52it/s]"
          ]
        },
        {
          "output_type": "stream",
          "name": "stdout",
          "text": [
            "                   all         18         45      0.945      0.909      0.948      0.653\n"
          ]
        },
        {
          "output_type": "stream",
          "name": "stderr",
          "text": [
            "\n"
          ]
        },
        {
          "output_type": "stream",
          "name": "stdout",
          "text": [
            "\n",
            "      Epoch    GPU_mem   box_loss   cls_loss   dfl_loss  Instances       Size\n"
          ]
        },
        {
          "output_type": "stream",
          "name": "stderr",
          "text": [
            "      45/50      2.13G     0.7483     0.9336      1.107         23        640: 100%|██████████| 4/4 [00:00<00:00,  4.95it/s]\n",
            "                 Class     Images  Instances      Box(P          R      mAP50  mAP50-95): 100%|██████████| 1/1 [00:00<00:00,  3.68it/s]"
          ]
        },
        {
          "output_type": "stream",
          "name": "stdout",
          "text": [
            "                   all         18         45      0.937      0.908      0.946      0.646\n"
          ]
        },
        {
          "output_type": "stream",
          "name": "stderr",
          "text": [
            "\n"
          ]
        },
        {
          "output_type": "stream",
          "name": "stdout",
          "text": [
            "\n",
            "      Epoch    GPU_mem   box_loss   cls_loss   dfl_loss  Instances       Size\n"
          ]
        },
        {
          "output_type": "stream",
          "name": "stderr",
          "text": [
            "      46/50      2.13G     0.6973     0.9762      1.092         20        640: 100%|██████████| 4/4 [00:01<00:00,  3.60it/s]\n",
            "                 Class     Images  Instances      Box(P          R      mAP50  mAP50-95): 100%|██████████| 1/1 [00:00<00:00,  2.77it/s]"
          ]
        },
        {
          "output_type": "stream",
          "name": "stdout",
          "text": [
            "                   all         18         45      0.934      0.908      0.947      0.656\n"
          ]
        },
        {
          "output_type": "stream",
          "name": "stderr",
          "text": [
            "\n"
          ]
        },
        {
          "output_type": "stream",
          "name": "stdout",
          "text": [
            "\n",
            "      Epoch    GPU_mem   box_loss   cls_loss   dfl_loss  Instances       Size\n"
          ]
        },
        {
          "output_type": "stream",
          "name": "stderr",
          "text": [
            "      47/50      2.09G     0.6996     0.9313      1.043         20        640: 100%|██████████| 4/4 [00:00<00:00,  4.36it/s]\n",
            "                 Class     Images  Instances      Box(P          R      mAP50  mAP50-95): 100%|██████████| 1/1 [00:00<00:00,  6.58it/s]"
          ]
        },
        {
          "output_type": "stream",
          "name": "stdout",
          "text": [
            "                   all         18         45      0.933      0.908      0.946      0.656\n"
          ]
        },
        {
          "output_type": "stream",
          "name": "stderr",
          "text": [
            "\n"
          ]
        },
        {
          "output_type": "stream",
          "name": "stdout",
          "text": [
            "\n",
            "      Epoch    GPU_mem   box_loss   cls_loss   dfl_loss  Instances       Size\n"
          ]
        },
        {
          "output_type": "stream",
          "name": "stderr",
          "text": [
            "      48/50      2.09G      0.734     0.9331      1.128         21        640: 100%|██████████| 4/4 [00:00<00:00,  4.96it/s]\n",
            "                 Class     Images  Instances      Box(P          R      mAP50  mAP50-95): 100%|██████████| 1/1 [00:00<00:00,  6.70it/s]"
          ]
        },
        {
          "output_type": "stream",
          "name": "stdout",
          "text": [
            "                   all         18         45      0.908      0.879      0.911      0.658\n"
          ]
        },
        {
          "output_type": "stream",
          "name": "stderr",
          "text": [
            "\n"
          ]
        },
        {
          "output_type": "stream",
          "name": "stdout",
          "text": [
            "\n",
            "      Epoch    GPU_mem   box_loss   cls_loss   dfl_loss  Instances       Size\n"
          ]
        },
        {
          "output_type": "stream",
          "name": "stderr",
          "text": [
            "      49/50      2.09G     0.7155     0.9125      1.124         24        640: 100%|██████████| 4/4 [00:00<00:00,  5.21it/s]\n",
            "                 Class     Images  Instances      Box(P          R      mAP50  mAP50-95): 100%|██████████| 1/1 [00:00<00:00,  6.71it/s]"
          ]
        },
        {
          "output_type": "stream",
          "name": "stdout",
          "text": [
            "                   all         18         45      0.919      0.882      0.912      0.662\n"
          ]
        },
        {
          "output_type": "stream",
          "name": "stderr",
          "text": [
            "\n"
          ]
        },
        {
          "output_type": "stream",
          "name": "stdout",
          "text": [
            "\n",
            "      Epoch    GPU_mem   box_loss   cls_loss   dfl_loss  Instances       Size\n"
          ]
        },
        {
          "output_type": "stream",
          "name": "stderr",
          "text": [
            "      50/50      2.11G     0.6778     0.9089      1.073         27        640: 100%|██████████| 4/4 [00:00<00:00,  4.93it/s]\n",
            "                 Class     Images  Instances      Box(P          R      mAP50  mAP50-95): 100%|██████████| 1/1 [00:00<00:00,  6.07it/s]\n"
          ]
        },
        {
          "output_type": "stream",
          "name": "stdout",
          "text": [
            "                   all         18         45      0.896      0.876      0.912      0.659\n",
            "\n",
            "50 epochs completed in 0.031 hours.\n",
            "Optimizer stripped from /content/drive/MyDrive/yolo_war_dataset/yolo_war_detection3/weights/last.pt, 6.2MB\n",
            "Optimizer stripped from /content/drive/MyDrive/yolo_war_dataset/yolo_war_detection3/weights/best.pt, 6.2MB\n",
            "\n",
            "Validating /content/drive/MyDrive/yolo_war_dataset/yolo_war_detection3/weights/best.pt...\n",
            "Ultralytics 8.3.76 🚀 Python-3.11.11 torch-2.5.1+cu121 CUDA:0 (Tesla T4, 15095MiB)\n",
            "Model summary (fused): 72 layers, 3,006,233 parameters, 0 gradients, 8.1 GFLOPs\n"
          ]
        },
        {
          "output_type": "stream",
          "name": "stderr",
          "text": [
            "                 Class     Images  Instances      Box(P          R      mAP50  mAP50-95): 100%|██████████| 1/1 [00:00<00:00,  6.37it/s]\n"
          ]
        },
        {
          "output_type": "stream",
          "name": "stdout",
          "text": [
            "                   all         18         45      0.841      0.848       0.93       0.66\n",
            "                  tank         11         12      0.641      0.917      0.963      0.627\n",
            "               warship          7         14      0.961          1      0.995      0.867\n",
            "               soldier         12         19      0.922      0.627      0.833      0.485\n",
            "Speed: 0.2ms preprocess, 2.0ms inference, 0.0ms loss, 1.5ms postprocess per image\n",
            "Results saved to \u001b[1m/content/drive/MyDrive/yolo_war_dataset/yolo_war_detection3\u001b[0m\n"
          ]
        }
      ]
    },
    {
      "cell_type": "code",
      "source": [
        "import glob\n",
        "\n",
        "# Localizar as imagens da pasta probe\n",
        "probe_images = glob.glob('/content/drive/MyDrive/yolo_war_dataset/probe/*.png')\n",
        "\n",
        "# Carregar o modelo treinado (melhor resultado)\n",
        "model = YOLO('/content/drive/MyDrive/yolo_war_dataset/yolo_war_detection2/weights/best.pt')\n",
        "\n",
        "# Realizar a detecção em cada imagem\n",
        "for img_path in probe_images:\n",
        "    results = model.predict(img_path, save=True, conf=0.4)\n"
      ],
      "metadata": {
        "colab": {
          "base_uri": "https://localhost:8080/"
        },
        "collapsed": true,
        "id": "q1yhg7waeb-8",
        "outputId": "aa6ec23c-a1e1-4769-e622-0d4f7633deba"
      },
      "execution_count": 92,
      "outputs": [
        {
          "output_type": "stream",
          "name": "stdout",
          "text": [
            "\n",
            "image 1/1 /content/drive/MyDrive/yolo_war_dataset/probe/1739889174.png: 640x640 2 tanks, 8.8ms\n",
            "Speed: 3.8ms preprocess, 8.8ms inference, 1.7ms postprocess per image at shape (1, 3, 640, 640)\n",
            "Results saved to \u001b[1mruns/detect/predict2\u001b[0m\n",
            "\n",
            "image 1/1 /content/drive/MyDrive/yolo_war_dataset/probe/1739889198.png: 640x640 2 warships, 21.7ms\n",
            "Speed: 7.4ms preprocess, 21.7ms inference, 2.9ms postprocess per image at shape (1, 3, 640, 640)\n",
            "Results saved to \u001b[1mruns/detect/predict2\u001b[0m\n",
            "\n",
            "image 1/1 /content/drive/MyDrive/yolo_war_dataset/probe/1739889288.png: 640x640 3 warships, 10.9ms\n",
            "Speed: 5.3ms preprocess, 10.9ms inference, 8.1ms postprocess per image at shape (1, 3, 640, 640)\n",
            "Results saved to \u001b[1mruns/detect/predict2\u001b[0m\n",
            "\n",
            "image 1/1 /content/drive/MyDrive/yolo_war_dataset/probe/1739889351.png: 640x640 2 tanks, 10.1ms\n",
            "Speed: 5.5ms preprocess, 10.1ms inference, 1.2ms postprocess per image at shape (1, 3, 640, 640)\n",
            "Results saved to \u001b[1mruns/detect/predict2\u001b[0m\n",
            "\n",
            "image 1/1 /content/drive/MyDrive/yolo_war_dataset/probe/1739889390.png: 640x640 3 warships, 7.4ms\n",
            "Speed: 3.0ms preprocess, 7.4ms inference, 1.2ms postprocess per image at shape (1, 3, 640, 640)\n",
            "Results saved to \u001b[1mruns/detect/predict2\u001b[0m\n",
            "\n",
            "image 1/1 /content/drive/MyDrive/yolo_war_dataset/probe/1739889416.png: 640x640 2 tanks, 7.4ms\n",
            "Speed: 2.9ms preprocess, 7.4ms inference, 1.1ms postprocess per image at shape (1, 3, 640, 640)\n",
            "Results saved to \u001b[1mruns/detect/predict2\u001b[0m\n",
            "\n",
            "image 1/1 /content/drive/MyDrive/yolo_war_dataset/probe/1739889546.png: 640x640 2 warships, 7.4ms\n",
            "Speed: 3.0ms preprocess, 7.4ms inference, 1.1ms postprocess per image at shape (1, 3, 640, 640)\n",
            "Results saved to \u001b[1mruns/detect/predict2\u001b[0m\n",
            "\n",
            "image 1/1 /content/drive/MyDrive/yolo_war_dataset/probe/1739889609.png: 640x640 1 warship, 7.4ms\n",
            "Speed: 3.0ms preprocess, 7.4ms inference, 1.1ms postprocess per image at shape (1, 3, 640, 640)\n",
            "Results saved to \u001b[1mruns/detect/predict2\u001b[0m\n",
            "\n",
            "image 1/1 /content/drive/MyDrive/yolo_war_dataset/probe/1739889618.png: 640x640 1 tank, 1 soldier, 7.4ms\n",
            "Speed: 3.6ms preprocess, 7.4ms inference, 1.2ms postprocess per image at shape (1, 3, 640, 640)\n",
            "Results saved to \u001b[1mruns/detect/predict2\u001b[0m\n",
            "\n",
            "image 1/1 /content/drive/MyDrive/yolo_war_dataset/probe/1739889657.png: 640x640 1 warship, 7.4ms\n",
            "Speed: 2.9ms preprocess, 7.4ms inference, 1.2ms postprocess per image at shape (1, 3, 640, 640)\n",
            "Results saved to \u001b[1mruns/detect/predict2\u001b[0m\n",
            "\n",
            "image 1/1 /content/drive/MyDrive/yolo_war_dataset/probe/1739889677.png: 640x640 1 tank, 7.4ms\n",
            "Speed: 2.9ms preprocess, 7.4ms inference, 1.1ms postprocess per image at shape (1, 3, 640, 640)\n",
            "Results saved to \u001b[1mruns/detect/predict2\u001b[0m\n",
            "\n",
            "image 1/1 /content/drive/MyDrive/yolo_war_dataset/probe/1739889780.png: 640x640 2 tanks, 1 soldier, 7.4ms\n",
            "Speed: 3.0ms preprocess, 7.4ms inference, 1.2ms postprocess per image at shape (1, 3, 640, 640)\n",
            "Results saved to \u001b[1mruns/detect/predict2\u001b[0m\n",
            "\n",
            "image 1/1 /content/drive/MyDrive/yolo_war_dataset/probe/1739889806.png: 640x640 2 tanks, 1 soldier, 7.4ms\n",
            "Speed: 3.1ms preprocess, 7.4ms inference, 1.3ms postprocess per image at shape (1, 3, 640, 640)\n",
            "Results saved to \u001b[1mruns/detect/predict2\u001b[0m\n",
            "\n",
            "image 1/1 /content/drive/MyDrive/yolo_war_dataset/probe/1739889837.png: 640x640 1 warship, 7.4ms\n",
            "Speed: 3.2ms preprocess, 7.4ms inference, 1.2ms postprocess per image at shape (1, 3, 640, 640)\n",
            "Results saved to \u001b[1mruns/detect/predict2\u001b[0m\n",
            "\n",
            "image 1/1 /content/drive/MyDrive/yolo_war_dataset/probe/1739889916.png: 640x640 6 warships, 7.4ms\n",
            "Speed: 3.0ms preprocess, 7.4ms inference, 1.1ms postprocess per image at shape (1, 3, 640, 640)\n",
            "Results saved to \u001b[1mruns/detect/predict2\u001b[0m\n",
            "\n",
            "image 1/1 /content/drive/MyDrive/yolo_war_dataset/probe/1739890013.png: 640x640 2 warships, 7.4ms\n",
            "Speed: 3.1ms preprocess, 7.4ms inference, 1.2ms postprocess per image at shape (1, 3, 640, 640)\n",
            "Results saved to \u001b[1mruns/detect/predict2\u001b[0m\n",
            "\n",
            "image 1/1 /content/drive/MyDrive/yolo_war_dataset/probe/1739890041.png: 640x640 2 tanks, 1 soldier, 7.4ms\n",
            "Speed: 3.0ms preprocess, 7.4ms inference, 1.3ms postprocess per image at shape (1, 3, 640, 640)\n",
            "Results saved to \u001b[1mruns/detect/predict2\u001b[0m\n",
            "\n",
            "image 1/1 /content/drive/MyDrive/yolo_war_dataset/probe/1739890079.png: 640x640 2 warships, 7.4ms\n",
            "Speed: 3.0ms preprocess, 7.4ms inference, 1.4ms postprocess per image at shape (1, 3, 640, 640)\n",
            "Results saved to \u001b[1mruns/detect/predict2\u001b[0m\n",
            "\n",
            "image 1/1 /content/drive/MyDrive/yolo_war_dataset/probe/1739890146.png: 640x640 2 warships, 7.5ms\n",
            "Speed: 4.7ms preprocess, 7.5ms inference, 1.4ms postprocess per image at shape (1, 3, 640, 640)\n",
            "Results saved to \u001b[1mruns/detect/predict2\u001b[0m\n",
            "\n",
            "image 1/1 /content/drive/MyDrive/yolo_war_dataset/probe/1739890174.png: 640x640 2 tanks, 7.4ms\n",
            "Speed: 3.0ms preprocess, 7.4ms inference, 1.6ms postprocess per image at shape (1, 3, 640, 640)\n",
            "Results saved to \u001b[1mruns/detect/predict2\u001b[0m\n",
            "\n",
            "image 1/1 /content/drive/MyDrive/yolo_war_dataset/probe/1739890227.png: 640x640 1 warship, 7.4ms\n",
            "Speed: 2.9ms preprocess, 7.4ms inference, 1.1ms postprocess per image at shape (1, 3, 640, 640)\n",
            "Results saved to \u001b[1mruns/detect/predict2\u001b[0m\n",
            "\n",
            "image 1/1 /content/drive/MyDrive/yolo_war_dataset/probe/1739890228.png: 640x640 2 tanks, 1 soldier, 10.3ms\n",
            "Speed: 3.4ms preprocess, 10.3ms inference, 1.6ms postprocess per image at shape (1, 3, 640, 640)\n",
            "Results saved to \u001b[1mruns/detect/predict2\u001b[0m\n",
            "\n",
            "image 1/1 /content/drive/MyDrive/yolo_war_dataset/probe/1739890325.png: 640x640 3 warships, 8.7ms\n",
            "Speed: 3.8ms preprocess, 8.7ms inference, 1.5ms postprocess per image at shape (1, 3, 640, 640)\n",
            "Results saved to \u001b[1mruns/detect/predict2\u001b[0m\n",
            "\n",
            "image 1/1 /content/drive/MyDrive/yolo_war_dataset/probe/1739890395.png: 640x640 3 warships, 9.8ms\n",
            "Speed: 3.8ms preprocess, 9.8ms inference, 1.5ms postprocess per image at shape (1, 3, 640, 640)\n",
            "Results saved to \u001b[1mruns/detect/predict2\u001b[0m\n",
            "\n",
            "image 1/1 /content/drive/MyDrive/yolo_war_dataset/probe/1739890493.png: 640x640 2 warships, 9.5ms\n",
            "Speed: 3.7ms preprocess, 9.5ms inference, 1.5ms postprocess per image at shape (1, 3, 640, 640)\n",
            "Results saved to \u001b[1mruns/detect/predict2\u001b[0m\n",
            "\n",
            "image 1/1 /content/drive/MyDrive/yolo_war_dataset/probe/1739890498.png: 640x640 1 tank, 1 soldier, 8.8ms\n",
            "Speed: 3.7ms preprocess, 8.8ms inference, 1.3ms postprocess per image at shape (1, 3, 640, 640)\n",
            "Results saved to \u001b[1mruns/detect/predict2\u001b[0m\n",
            "\n",
            "image 1/1 /content/drive/MyDrive/yolo_war_dataset/probe/1739890555.png: 640x640 1 tank, 1 soldier, 9.4ms\n",
            "Speed: 3.6ms preprocess, 9.4ms inference, 1.6ms postprocess per image at shape (1, 3, 640, 640)\n",
            "Results saved to \u001b[1mruns/detect/predict2\u001b[0m\n",
            "\n",
            "image 1/1 /content/drive/MyDrive/yolo_war_dataset/probe/1739890564.png: 640x640 1 warship, 8.6ms\n",
            "Speed: 3.6ms preprocess, 8.6ms inference, 1.5ms postprocess per image at shape (1, 3, 640, 640)\n",
            "Results saved to \u001b[1mruns/detect/predict2\u001b[0m\n",
            "\n",
            "image 1/1 /content/drive/MyDrive/yolo_war_dataset/probe/1739890660.png: 640x640 1 tank, 1 soldier, 7.4ms\n",
            "Speed: 3.1ms preprocess, 7.4ms inference, 1.2ms postprocess per image at shape (1, 3, 640, 640)\n",
            "Results saved to \u001b[1mruns/detect/predict2\u001b[0m\n",
            "\n",
            "image 1/1 /content/drive/MyDrive/yolo_war_dataset/probe/1739890688.png: 640x640 1 warship, 7.4ms\n",
            "Speed: 3.0ms preprocess, 7.4ms inference, 1.2ms postprocess per image at shape (1, 3, 640, 640)\n",
            "Results saved to \u001b[1mruns/detect/predict2\u001b[0m\n",
            "\n",
            "image 1/1 /content/drive/MyDrive/yolo_war_dataset/probe/1739890692.png: 640x640 2 tanks, 7.4ms\n",
            "Speed: 3.1ms preprocess, 7.4ms inference, 1.1ms postprocess per image at shape (1, 3, 640, 640)\n",
            "Results saved to \u001b[1mruns/detect/predict2\u001b[0m\n",
            "\n",
            "image 1/1 /content/drive/MyDrive/yolo_war_dataset/probe/1739891098.png: 640x640 1 tank, 10.3ms\n",
            "Speed: 3.1ms preprocess, 10.3ms inference, 1.7ms postprocess per image at shape (1, 3, 640, 640)\n",
            "Results saved to \u001b[1mruns/detect/predict2\u001b[0m\n",
            "\n",
            "image 1/1 /content/drive/MyDrive/yolo_war_dataset/probe/1739891134.png: 640x640 2 tanks, 7.4ms\n",
            "Speed: 3.6ms preprocess, 7.4ms inference, 1.2ms postprocess per image at shape (1, 3, 640, 640)\n",
            "Results saved to \u001b[1mruns/detect/predict2\u001b[0m\n",
            "\n",
            "image 1/1 /content/drive/MyDrive/yolo_war_dataset/probe/1739891265.png: 640x640 1 tank, 7.4ms\n",
            "Speed: 3.1ms preprocess, 7.4ms inference, 1.1ms postprocess per image at shape (1, 3, 640, 640)\n",
            "Results saved to \u001b[1mruns/detect/predict2\u001b[0m\n",
            "\n",
            "image 1/1 /content/drive/MyDrive/yolo_war_dataset/probe/1739891270.png: 640x640 1 warship, 7.4ms\n",
            "Speed: 3.0ms preprocess, 7.4ms inference, 1.4ms postprocess per image at shape (1, 3, 640, 640)\n",
            "Results saved to \u001b[1mruns/detect/predict2\u001b[0m\n",
            "\n",
            "image 1/1 /content/drive/MyDrive/yolo_war_dataset/probe/1739891388.png: 640x640 3 warships, 7.4ms\n",
            "Speed: 3.2ms preprocess, 7.4ms inference, 1.3ms postprocess per image at shape (1, 3, 640, 640)\n",
            "Results saved to \u001b[1mruns/detect/predict2\u001b[0m\n",
            "\n",
            "image 1/1 /content/drive/MyDrive/yolo_war_dataset/probe/1739891422.png: 640x640 2 tanks, 1 soldier, 7.4ms\n",
            "Speed: 3.0ms preprocess, 7.4ms inference, 1.3ms postprocess per image at shape (1, 3, 640, 640)\n",
            "Results saved to \u001b[1mruns/detect/predict2\u001b[0m\n",
            "\n",
            "image 1/1 /content/drive/MyDrive/yolo_war_dataset/probe/1739891533.png: 640x640 1 warship, 7.4ms\n",
            "Speed: 3.0ms preprocess, 7.4ms inference, 1.3ms postprocess per image at shape (1, 3, 640, 640)\n",
            "Results saved to \u001b[1mruns/detect/predict2\u001b[0m\n",
            "\n",
            "image 1/1 /content/drive/MyDrive/yolo_war_dataset/probe/1739891594.png: 640x640 1 warship, 7.4ms\n",
            "Speed: 3.0ms preprocess, 7.4ms inference, 1.1ms postprocess per image at shape (1, 3, 640, 640)\n",
            "Results saved to \u001b[1mruns/detect/predict2\u001b[0m\n",
            "\n",
            "image 1/1 /content/drive/MyDrive/yolo_war_dataset/probe/1739891642.png: 640x640 1 tank, 7.4ms\n",
            "Speed: 3.0ms preprocess, 7.4ms inference, 1.1ms postprocess per image at shape (1, 3, 640, 640)\n",
            "Results saved to \u001b[1mruns/detect/predict2\u001b[0m\n",
            "\n",
            "image 1/1 /content/drive/MyDrive/yolo_war_dataset/probe/1739891734.png: 640x640 3 warships, 7.4ms\n",
            "Speed: 3.0ms preprocess, 7.4ms inference, 1.2ms postprocess per image at shape (1, 3, 640, 640)\n",
            "Results saved to \u001b[1mruns/detect/predict2\u001b[0m\n",
            "\n",
            "image 1/1 /content/drive/MyDrive/yolo_war_dataset/probe/1739891750.png: 640x640 2 tanks, 7.4ms\n",
            "Speed: 3.0ms preprocess, 7.4ms inference, 1.1ms postprocess per image at shape (1, 3, 640, 640)\n",
            "Results saved to \u001b[1mruns/detect/predict2\u001b[0m\n",
            "\n",
            "image 1/1 /content/drive/MyDrive/yolo_war_dataset/probe/1739891845.png: 640x640 2 warships, 7.4ms\n",
            "Speed: 3.0ms preprocess, 7.4ms inference, 1.1ms postprocess per image at shape (1, 3, 640, 640)\n",
            "Results saved to \u001b[1mruns/detect/predict2\u001b[0m\n",
            "\n",
            "image 1/1 /content/drive/MyDrive/yolo_war_dataset/probe/1739891897.png: 640x640 2 tanks, 7.4ms\n",
            "Speed: 3.0ms preprocess, 7.4ms inference, 1.1ms postprocess per image at shape (1, 3, 640, 640)\n",
            "Results saved to \u001b[1mruns/detect/predict2\u001b[0m\n",
            "\n",
            "image 1/1 /content/drive/MyDrive/yolo_war_dataset/probe/1739892025.png: 640x640 3 warships, 7.4ms\n",
            "Speed: 3.1ms preprocess, 7.4ms inference, 1.2ms postprocess per image at shape (1, 3, 640, 640)\n",
            "Results saved to \u001b[1mruns/detect/predict2\u001b[0m\n",
            "\n",
            "image 1/1 /content/drive/MyDrive/yolo_war_dataset/probe/1739892053.png: 640x640 2 tanks, 1 soldier, 7.4ms\n",
            "Speed: 4.4ms preprocess, 7.4ms inference, 1.2ms postprocess per image at shape (1, 3, 640, 640)\n",
            "Results saved to \u001b[1mruns/detect/predict2\u001b[0m\n",
            "\n",
            "image 1/1 /content/drive/MyDrive/yolo_war_dataset/probe/1739892092.png: 640x640 2 tanks, 1 soldier, 7.4ms\n",
            "Speed: 3.1ms preprocess, 7.4ms inference, 1.3ms postprocess per image at shape (1, 3, 640, 640)\n",
            "Results saved to \u001b[1mruns/detect/predict2\u001b[0m\n",
            "\n",
            "image 1/1 /content/drive/MyDrive/yolo_war_dataset/probe/1739892139.png: 640x640 2 warships, 7.4ms\n",
            "Speed: 3.1ms preprocess, 7.4ms inference, 1.1ms postprocess per image at shape (1, 3, 640, 640)\n",
            "Results saved to \u001b[1mruns/detect/predict2\u001b[0m\n",
            "\n",
            "image 1/1 /content/drive/MyDrive/yolo_war_dataset/probe/1739892206.png: 640x640 1 tank, 13.5ms\n",
            "Speed: 5.7ms preprocess, 13.5ms inference, 1.9ms postprocess per image at shape (1, 3, 640, 640)\n",
            "Results saved to \u001b[1mruns/detect/predict2\u001b[0m\n",
            "\n",
            "image 1/1 /content/drive/MyDrive/yolo_war_dataset/probe/1739892226.png: 640x640 2 warships, 9.0ms\n",
            "Speed: 3.7ms preprocess, 9.0ms inference, 1.5ms postprocess per image at shape (1, 3, 640, 640)\n",
            "Results saved to \u001b[1mruns/detect/predict2\u001b[0m\n",
            "\n",
            "image 1/1 /content/drive/MyDrive/yolo_war_dataset/probe/1739892264.png: 640x640 4 warships, 9.9ms\n",
            "Speed: 3.8ms preprocess, 9.9ms inference, 1.6ms postprocess per image at shape (1, 3, 640, 640)\n",
            "Results saved to \u001b[1mruns/detect/predict2\u001b[0m\n",
            "\n",
            "image 1/1 /content/drive/MyDrive/yolo_war_dataset/probe/1739892305.png: 640x640 2 warships, 9.8ms\n",
            "Speed: 3.8ms preprocess, 9.8ms inference, 1.7ms postprocess per image at shape (1, 3, 640, 640)\n",
            "Results saved to \u001b[1mruns/detect/predict2\u001b[0m\n",
            "\n",
            "image 1/1 /content/drive/MyDrive/yolo_war_dataset/probe/1739892415.png: 640x640 1 tank, 1 soldier, 9.5ms\n",
            "Speed: 3.5ms preprocess, 9.5ms inference, 2.0ms postprocess per image at shape (1, 3, 640, 640)\n",
            "Results saved to \u001b[1mruns/detect/predict2\u001b[0m\n",
            "\n",
            "image 1/1 /content/drive/MyDrive/yolo_war_dataset/probe/1739892427.png: 640x640 1 warship, 10.4ms\n",
            "Speed: 3.9ms preprocess, 10.4ms inference, 1.6ms postprocess per image at shape (1, 3, 640, 640)\n",
            "Results saved to \u001b[1mruns/detect/predict2\u001b[0m\n",
            "\n",
            "image 1/1 /content/drive/MyDrive/yolo_war_dataset/probe/1739892477.png: 640x640 4 warships, 7.4ms\n",
            "Speed: 3.0ms preprocess, 7.4ms inference, 1.4ms postprocess per image at shape (1, 3, 640, 640)\n",
            "Results saved to \u001b[1mruns/detect/predict2\u001b[0m\n",
            "\n",
            "image 1/1 /content/drive/MyDrive/yolo_war_dataset/probe/1739892506.png: 640x640 1 warship, 7.4ms\n",
            "Speed: 2.9ms preprocess, 7.4ms inference, 1.2ms postprocess per image at shape (1, 3, 640, 640)\n",
            "Results saved to \u001b[1mruns/detect/predict2\u001b[0m\n",
            "\n",
            "image 1/1 /content/drive/MyDrive/yolo_war_dataset/probe/1739892513.png: 640x640 2 tanks, 7.4ms\n",
            "Speed: 3.1ms preprocess, 7.4ms inference, 1.2ms postprocess per image at shape (1, 3, 640, 640)\n",
            "Results saved to \u001b[1mruns/detect/predict2\u001b[0m\n",
            "\n",
            "image 1/1 /content/drive/MyDrive/yolo_war_dataset/probe/1739892532.png: 640x640 1 warship, 7.4ms\n",
            "Speed: 3.1ms preprocess, 7.4ms inference, 1.1ms postprocess per image at shape (1, 3, 640, 640)\n",
            "Results saved to \u001b[1mruns/detect/predict2\u001b[0m\n",
            "\n",
            "image 1/1 /content/drive/MyDrive/yolo_war_dataset/probe/1739892558.png: 640x640 1 tank, 7.4ms\n",
            "Speed: 3.3ms preprocess, 7.4ms inference, 1.1ms postprocess per image at shape (1, 3, 640, 640)\n",
            "Results saved to \u001b[1mruns/detect/predict2\u001b[0m\n",
            "\n",
            "image 1/1 /content/drive/MyDrive/yolo_war_dataset/probe/1739892590.png: 640x640 1 warship, 9.2ms\n",
            "Speed: 2.9ms preprocess, 9.2ms inference, 1.1ms postprocess per image at shape (1, 3, 640, 640)\n",
            "Results saved to \u001b[1mruns/detect/predict2\u001b[0m\n",
            "\n",
            "image 1/1 /content/drive/MyDrive/yolo_war_dataset/probe/1739892620.png: 640x640 1 tank, 1 soldier, 7.4ms\n",
            "Speed: 3.0ms preprocess, 7.4ms inference, 1.5ms postprocess per image at shape (1, 3, 640, 640)\n",
            "Results saved to \u001b[1mruns/detect/predict2\u001b[0m\n",
            "\n",
            "image 1/1 /content/drive/MyDrive/yolo_war_dataset/probe/1739892702.png: 640x640 2 warships, 7.6ms\n",
            "Speed: 3.4ms preprocess, 7.6ms inference, 1.2ms postprocess per image at shape (1, 3, 640, 640)\n",
            "Results saved to \u001b[1mruns/detect/predict2\u001b[0m\n",
            "\n",
            "image 1/1 /content/drive/MyDrive/yolo_war_dataset/probe/1739892831.png: 640x640 1 tank, 1 soldier, 7.4ms\n",
            "Speed: 3.0ms preprocess, 7.4ms inference, 1.2ms postprocess per image at shape (1, 3, 640, 640)\n",
            "Results saved to \u001b[1mruns/detect/predict2\u001b[0m\n",
            "\n",
            "image 1/1 /content/drive/MyDrive/yolo_war_dataset/probe/1739892873.png: 640x640 1 tank, 7.4ms\n",
            "Speed: 3.1ms preprocess, 7.4ms inference, 1.4ms postprocess per image at shape (1, 3, 640, 640)\n",
            "Results saved to \u001b[1mruns/detect/predict2\u001b[0m\n",
            "\n",
            "image 1/1 /content/drive/MyDrive/yolo_war_dataset/probe/1739892935.png: 640x640 2 warships, 7.4ms\n",
            "Speed: 2.9ms preprocess, 7.4ms inference, 1.3ms postprocess per image at shape (1, 3, 640, 640)\n",
            "Results saved to \u001b[1mruns/detect/predict2\u001b[0m\n",
            "\n",
            "image 1/1 /content/drive/MyDrive/yolo_war_dataset/probe/1739892969.png: 640x640 2 warships, 7.4ms\n",
            "Speed: 3.0ms preprocess, 7.4ms inference, 1.3ms postprocess per image at shape (1, 3, 640, 640)\n",
            "Results saved to \u001b[1mruns/detect/predict2\u001b[0m\n",
            "\n",
            "image 1/1 /content/drive/MyDrive/yolo_war_dataset/probe/1739893043.png: 640x640 1 warship, 7.4ms\n",
            "Speed: 2.9ms preprocess, 7.4ms inference, 1.1ms postprocess per image at shape (1, 3, 640, 640)\n",
            "Results saved to \u001b[1mruns/detect/predict2\u001b[0m\n",
            "\n",
            "image 1/1 /content/drive/MyDrive/yolo_war_dataset/probe/1739893049.png: 640x640 2 tanks, 7.4ms\n",
            "Speed: 3.0ms preprocess, 7.4ms inference, 1.1ms postprocess per image at shape (1, 3, 640, 640)\n",
            "Results saved to \u001b[1mruns/detect/predict2\u001b[0m\n",
            "\n",
            "image 1/1 /content/drive/MyDrive/yolo_war_dataset/probe/1739893075.png: 640x640 1 warship, 7.4ms\n",
            "Speed: 3.0ms preprocess, 7.4ms inference, 1.1ms postprocess per image at shape (1, 3, 640, 640)\n",
            "Results saved to \u001b[1mruns/detect/predict2\u001b[0m\n",
            "\n",
            "image 1/1 /content/drive/MyDrive/yolo_war_dataset/probe/1739893112.png: 640x640 2 tanks, 1 soldier, 7.4ms\n",
            "Speed: 2.9ms preprocess, 7.4ms inference, 1.2ms postprocess per image at shape (1, 3, 640, 640)\n",
            "Results saved to \u001b[1mruns/detect/predict2\u001b[0m\n",
            "\n",
            "image 1/1 /content/drive/MyDrive/yolo_war_dataset/probe/1739893135.png: 640x640 2 warships, 7.4ms\n",
            "Speed: 2.9ms preprocess, 7.4ms inference, 1.2ms postprocess per image at shape (1, 3, 640, 640)\n",
            "Results saved to \u001b[1mruns/detect/predict2\u001b[0m\n",
            "\n",
            "image 1/1 /content/drive/MyDrive/yolo_war_dataset/probe/1739893192.png: 640x640 1 tank, 7.4ms\n",
            "Speed: 3.1ms preprocess, 7.4ms inference, 1.2ms postprocess per image at shape (1, 3, 640, 640)\n",
            "Results saved to \u001b[1mruns/detect/predict2\u001b[0m\n",
            "\n",
            "image 1/1 /content/drive/MyDrive/yolo_war_dataset/probe/1739893270.png: 640x640 2 warships, 7.4ms\n",
            "Speed: 3.0ms preprocess, 7.4ms inference, 1.2ms postprocess per image at shape (1, 3, 640, 640)\n",
            "Results saved to \u001b[1mruns/detect/predict2\u001b[0m\n",
            "\n",
            "image 1/1 /content/drive/MyDrive/yolo_war_dataset/probe/1739893320.png: 640x640 2 warships, 7.4ms\n",
            "Speed: 3.0ms preprocess, 7.4ms inference, 1.4ms postprocess per image at shape (1, 3, 640, 640)\n",
            "Results saved to \u001b[1mruns/detect/predict2\u001b[0m\n",
            "\n",
            "image 1/1 /content/drive/MyDrive/yolo_war_dataset/probe/1739893326.png: 640x640 1 tank, 7.4ms\n",
            "Speed: 3.0ms preprocess, 7.4ms inference, 1.2ms postprocess per image at shape (1, 3, 640, 640)\n",
            "Results saved to \u001b[1mruns/detect/predict2\u001b[0m\n",
            "\n",
            "image 1/1 /content/drive/MyDrive/yolo_war_dataset/probe/1739893429.png: 640x640 1 tank, 1 soldier, 7.4ms\n",
            "Speed: 3.0ms preprocess, 7.4ms inference, 1.2ms postprocess per image at shape (1, 3, 640, 640)\n",
            "Results saved to \u001b[1mruns/detect/predict2\u001b[0m\n",
            "\n",
            "image 1/1 /content/drive/MyDrive/yolo_war_dataset/probe/1739893447.png: 640x640 1 warship, 9.6ms\n",
            "Speed: 3.6ms preprocess, 9.6ms inference, 1.7ms postprocess per image at shape (1, 3, 640, 640)\n",
            "Results saved to \u001b[1mruns/detect/predict2\u001b[0m\n",
            "\n",
            "image 1/1 /content/drive/MyDrive/yolo_war_dataset/probe/1739893481.png: 640x640 2 warships, 11.2ms\n",
            "Speed: 5.2ms preprocess, 11.2ms inference, 1.5ms postprocess per image at shape (1, 3, 640, 640)\n",
            "Results saved to \u001b[1mruns/detect/predict2\u001b[0m\n",
            "\n",
            "image 1/1 /content/drive/MyDrive/yolo_war_dataset/probe/1739893709.png: 640x640 1 tank, 8.6ms\n",
            "Speed: 3.5ms preprocess, 8.6ms inference, 1.5ms postprocess per image at shape (1, 3, 640, 640)\n",
            "Results saved to \u001b[1mruns/detect/predict2\u001b[0m\n",
            "\n",
            "image 1/1 /content/drive/MyDrive/yolo_war_dataset/probe/1739893775.png: 640x640 3 warships, 8.9ms\n",
            "Speed: 3.6ms preprocess, 8.9ms inference, 1.5ms postprocess per image at shape (1, 3, 640, 640)\n",
            "Results saved to \u001b[1mruns/detect/predict2\u001b[0m\n",
            "\n",
            "image 1/1 /content/drive/MyDrive/yolo_war_dataset/probe/1739893884.png: 640x640 4 warships, 9.1ms\n",
            "Speed: 3.5ms preprocess, 9.1ms inference, 1.4ms postprocess per image at shape (1, 3, 640, 640)\n",
            "Results saved to \u001b[1mruns/detect/predict2\u001b[0m\n",
            "\n",
            "image 1/1 /content/drive/MyDrive/yolo_war_dataset/probe/1739893899.png: 640x640 2 tanks, 9.1ms\n",
            "Speed: 3.7ms preprocess, 9.1ms inference, 1.5ms postprocess per image at shape (1, 3, 640, 640)\n",
            "Results saved to \u001b[1mruns/detect/predict2\u001b[0m\n",
            "\n",
            "image 1/1 /content/drive/MyDrive/yolo_war_dataset/probe/1739894044.png: 640x640 2 tanks, 7.4ms\n",
            "Speed: 2.9ms preprocess, 7.4ms inference, 1.1ms postprocess per image at shape (1, 3, 640, 640)\n",
            "Results saved to \u001b[1mruns/detect/predict2\u001b[0m\n",
            "\n",
            "image 1/1 /content/drive/MyDrive/yolo_war_dataset/probe/1739894092.png: 640x640 4 warships, 7.4ms\n",
            "Speed: 3.0ms preprocess, 7.4ms inference, 1.1ms postprocess per image at shape (1, 3, 640, 640)\n",
            "Results saved to \u001b[1mruns/detect/predict2\u001b[0m\n",
            "\n",
            "image 1/1 /content/drive/MyDrive/yolo_war_dataset/probe/1739894121.png: 640x640 2 tanks, 9.2ms\n",
            "Speed: 3.1ms preprocess, 9.2ms inference, 1.2ms postprocess per image at shape (1, 3, 640, 640)\n",
            "Results saved to \u001b[1mruns/detect/predict2\u001b[0m\n",
            "\n",
            "image 1/1 /content/drive/MyDrive/yolo_war_dataset/probe/1739894148.png: 640x640 1 tank, 7.4ms\n",
            "Speed: 3.1ms preprocess, 7.4ms inference, 1.7ms postprocess per image at shape (1, 3, 640, 640)\n",
            "Results saved to \u001b[1mruns/detect/predict2\u001b[0m\n",
            "\n",
            "image 1/1 /content/drive/MyDrive/yolo_war_dataset/probe/1739894205.png: 640x640 3 warships, 7.5ms\n",
            "Speed: 3.0ms preprocess, 7.5ms inference, 1.1ms postprocess per image at shape (1, 3, 640, 640)\n",
            "Results saved to \u001b[1mruns/detect/predict2\u001b[0m\n",
            "\n",
            "image 1/1 /content/drive/MyDrive/yolo_war_dataset/probe/1739894266.png: 640x640 2 warships, 7.4ms\n",
            "Speed: 3.0ms preprocess, 7.4ms inference, 1.2ms postprocess per image at shape (1, 3, 640, 640)\n",
            "Results saved to \u001b[1mruns/detect/predict2\u001b[0m\n",
            "\n",
            "image 1/1 /content/drive/MyDrive/yolo_war_dataset/probe/1739894280.png: 640x640 1 tank, 7.4ms\n",
            "Speed: 3.0ms preprocess, 7.4ms inference, 1.3ms postprocess per image at shape (1, 3, 640, 640)\n",
            "Results saved to \u001b[1mruns/detect/predict2\u001b[0m\n",
            "\n",
            "image 1/1 /content/drive/MyDrive/yolo_war_dataset/probe/1739894412.png: 640x640 1 warship, 7.4ms\n",
            "Speed: 3.0ms preprocess, 7.4ms inference, 1.3ms postprocess per image at shape (1, 3, 640, 640)\n",
            "Results saved to \u001b[1mruns/detect/predict2\u001b[0m\n",
            "\n",
            "image 1/1 /content/drive/MyDrive/yolo_war_dataset/probe/1739894417.png: 640x640 1 tank, 1 soldier, 7.4ms\n",
            "Speed: 3.1ms preprocess, 7.4ms inference, 1.2ms postprocess per image at shape (1, 3, 640, 640)\n",
            "Results saved to \u001b[1mruns/detect/predict2\u001b[0m\n",
            "\n",
            "image 1/1 /content/drive/MyDrive/yolo_war_dataset/probe/1739894596.png: 640x640 2 warships, 7.4ms\n",
            "Speed: 2.9ms preprocess, 7.4ms inference, 1.3ms postprocess per image at shape (1, 3, 640, 640)\n",
            "Results saved to \u001b[1mruns/detect/predict2\u001b[0m\n",
            "\n",
            "image 1/1 /content/drive/MyDrive/yolo_war_dataset/probe/1739894811.png: 640x640 1 tank, 1 soldier, 7.4ms\n",
            "Speed: 3.0ms preprocess, 7.4ms inference, 1.2ms postprocess per image at shape (1, 3, 640, 640)\n",
            "Results saved to \u001b[1mruns/detect/predict2\u001b[0m\n",
            "\n",
            "image 1/1 /content/drive/MyDrive/yolo_war_dataset/probe/1739894850.png: 640x640 2 tanks, 7.4ms\n",
            "Speed: 2.9ms preprocess, 7.4ms inference, 1.2ms postprocess per image at shape (1, 3, 640, 640)\n",
            "Results saved to \u001b[1mruns/detect/predict2\u001b[0m\n",
            "\n",
            "image 1/1 /content/drive/MyDrive/yolo_war_dataset/probe/1739894874.png: 640x640 1 tank, 1 soldier, 7.4ms\n",
            "Speed: 3.0ms preprocess, 7.4ms inference, 1.4ms postprocess per image at shape (1, 3, 640, 640)\n",
            "Results saved to \u001b[1mruns/detect/predict2\u001b[0m\n",
            "\n",
            "image 1/1 /content/drive/MyDrive/yolo_war_dataset/probe/1739894896.png: 640x640 2 warships, 7.4ms\n",
            "Speed: 3.0ms preprocess, 7.4ms inference, 1.2ms postprocess per image at shape (1, 3, 640, 640)\n",
            "Results saved to \u001b[1mruns/detect/predict2\u001b[0m\n",
            "\n",
            "image 1/1 /content/drive/MyDrive/yolo_war_dataset/probe/1739894942.png: 640x640 1 tank, 7.4ms\n",
            "Speed: 3.1ms preprocess, 7.4ms inference, 1.2ms postprocess per image at shape (1, 3, 640, 640)\n",
            "Results saved to \u001b[1mruns/detect/predict2\u001b[0m\n",
            "\n",
            "image 1/1 /content/drive/MyDrive/yolo_war_dataset/probe/1739894973.png: 640x640 1 tank, 7.4ms\n",
            "Speed: 3.0ms preprocess, 7.4ms inference, 1.1ms postprocess per image at shape (1, 3, 640, 640)\n",
            "Results saved to \u001b[1mruns/detect/predict2\u001b[0m\n",
            "\n",
            "image 1/1 /content/drive/MyDrive/yolo_war_dataset/probe/1739895011.png: 640x640 1 tank, 1 soldier, 7.4ms\n",
            "Speed: 2.9ms preprocess, 7.4ms inference, 1.1ms postprocess per image at shape (1, 3, 640, 640)\n",
            "Results saved to \u001b[1mruns/detect/predict2\u001b[0m\n",
            "\n",
            "image 1/1 /content/drive/MyDrive/yolo_war_dataset/probe/1739895036.png: 640x640 2 tanks, 1 soldier, 7.4ms\n",
            "Speed: 3.0ms preprocess, 7.4ms inference, 1.1ms postprocess per image at shape (1, 3, 640, 640)\n",
            "Results saved to \u001b[1mruns/detect/predict2\u001b[0m\n",
            "\n",
            "image 1/1 /content/drive/MyDrive/yolo_war_dataset/probe/1739895080.png: 640x640 3 warships, 7.7ms\n",
            "Speed: 3.0ms preprocess, 7.7ms inference, 1.4ms postprocess per image at shape (1, 3, 640, 640)\n",
            "Results saved to \u001b[1mruns/detect/predict2\u001b[0m\n",
            "\n",
            "image 1/1 /content/drive/MyDrive/yolo_war_dataset/probe/1739895189.png: 640x640 1 tank, 7.4ms\n",
            "Speed: 3.1ms preprocess, 7.4ms inference, 1.1ms postprocess per image at shape (1, 3, 640, 640)\n",
            "Results saved to \u001b[1mruns/detect/predict2\u001b[0m\n",
            "\n",
            "image 1/1 /content/drive/MyDrive/yolo_war_dataset/probe/1739895246.png: 640x640 2 warships, 7.4ms\n",
            "Speed: 3.0ms preprocess, 7.4ms inference, 1.1ms postprocess per image at shape (1, 3, 640, 640)\n",
            "Results saved to \u001b[1mruns/detect/predict2\u001b[0m\n",
            "\n",
            "image 1/1 /content/drive/MyDrive/yolo_war_dataset/probe/1739895278.png: 640x640 3 warships, 9.7ms\n",
            "Speed: 3.0ms preprocess, 9.7ms inference, 1.9ms postprocess per image at shape (1, 3, 640, 640)\n",
            "Results saved to \u001b[1mruns/detect/predict2\u001b[0m\n",
            "\n",
            "image 1/1 /content/drive/MyDrive/yolo_war_dataset/probe/1739895403.png: 640x640 2 tanks, 11.6ms\n",
            "Speed: 3.9ms preprocess, 11.6ms inference, 1.6ms postprocess per image at shape (1, 3, 640, 640)\n",
            "Results saved to \u001b[1mruns/detect/predict2\u001b[0m\n",
            "\n",
            "image 1/1 /content/drive/MyDrive/yolo_war_dataset/probe/1739895406.png: 640x640 2 warships, 12.5ms\n",
            "Speed: 5.7ms preprocess, 12.5ms inference, 1.9ms postprocess per image at shape (1, 3, 640, 640)\n",
            "Results saved to \u001b[1mruns/detect/predict2\u001b[0m\n",
            "\n",
            "image 1/1 /content/drive/MyDrive/yolo_war_dataset/probe/1739895447.png: 640x640 3 warships, 9.7ms\n",
            "Speed: 3.5ms preprocess, 9.7ms inference, 1.8ms postprocess per image at shape (1, 3, 640, 640)\n",
            "Results saved to \u001b[1mruns/detect/predict2\u001b[0m\n",
            "\n",
            "image 1/1 /content/drive/MyDrive/yolo_war_dataset/probe/1739895464.png: 640x640 2 tanks, 1 soldier, 9.5ms\n",
            "Speed: 4.3ms preprocess, 9.5ms inference, 1.5ms postprocess per image at shape (1, 3, 640, 640)\n",
            "Results saved to \u001b[1mruns/detect/predict2\u001b[0m\n",
            "\n",
            "image 1/1 /content/drive/MyDrive/yolo_war_dataset/probe/1739895632.png: 640x640 2 warships, 9.6ms\n",
            "Speed: 3.8ms preprocess, 9.6ms inference, 1.6ms postprocess per image at shape (1, 3, 640, 640)\n",
            "Results saved to \u001b[1mruns/detect/predict2\u001b[0m\n",
            "\n",
            "image 1/1 /content/drive/MyDrive/yolo_war_dataset/probe/1739895643.png: 640x640 2 tanks, 1 soldier, 7.4ms\n",
            "Speed: 3.0ms preprocess, 7.4ms inference, 1.2ms postprocess per image at shape (1, 3, 640, 640)\n",
            "Results saved to \u001b[1mruns/detect/predict2\u001b[0m\n"
          ]
        }
      ]
    },
    {
      "cell_type": "code",
      "source": [
        "import IPython.display as display\n",
        "from PIL import Image\n",
        "\n",
        "# Localizar as imagens com previsões salvas\n",
        "result_images = glob.glob('runs/detect/predict/*.png')\n",
        "\n",
        "# Exibir as imagens com detecções\n",
        "for img_path in result_images:\n",
        "    display.display(Image.open(img_path))\n"
      ],
      "metadata": {
        "id": "xUuIPw01goeR"
      },
      "execution_count": 93,
      "outputs": []
    }
  ],
  "metadata": {
    "colab": {
      "provenance": [],
      "gpuType": "T4",
      "authorship_tag": "ABX9TyMpMkI8nGNLZeBD1p4qv/En",
      "include_colab_link": true
    },
    "kernelspec": {
      "display_name": "Python 3",
      "name": "python3"
    },
    "language_info": {
      "name": "python"
    },
    "accelerator": "GPU"
  },
  "nbformat": 4,
  "nbformat_minor": 0
}